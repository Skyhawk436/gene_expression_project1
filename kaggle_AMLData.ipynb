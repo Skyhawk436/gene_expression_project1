{
 "cells": [
  {
   "cell_type": "code",
   "execution_count": 1,
   "metadata": {},
   "outputs": [
    {
     "name": "stderr",
     "output_type": "stream",
     "text": [
      "c:\\users\\natea\\appdata\\local\\programs\\python\\python36-32\\lib\\site-packages\\statsmodels\\tools\\_testing.py:19: FutureWarning: pandas.util.testing is deprecated. Use the functions in the public API at pandas.testing instead.\n",
      "  import pandas.util.testing as tm\n"
     ]
    }
   ],
   "source": [
    "import pandas as pd\n",
    "import numpy as np\n",
    "import seaborn as sns\n",
    "import matplotlib.pyplot as plt\n",
    "%matplotlib inline\n",
    "import os, sys\n",
    "plt.style.use('ggplot')"
   ]
  },
  {
   "cell_type": "code",
   "execution_count": 2,
   "metadata": {},
   "outputs": [],
   "source": [
    "train_data = pd.read_csv('data_set_ALL_AML_train.csv')\n",
    "test_data = pd.read_csv('data_set_ALL_AML_independent.csv')\n",
    "labels = pd.read_csv('actual.csv')"
   ]
  },
  {
   "cell_type": "code",
   "execution_count": 3,
   "metadata": {},
   "outputs": [
    {
     "data": {
      "text/plain": [
       "(7129, 78)"
      ]
     },
     "execution_count": 3,
     "metadata": {},
     "output_type": "execute_result"
    }
   ],
   "source": [
    "train_data.shape"
   ]
  },
  {
   "cell_type": "code",
   "execution_count": 4,
   "metadata": {},
   "outputs": [
    {
     "data": {
      "text/plain": [
       "(7129, 70)"
      ]
     },
     "execution_count": 4,
     "metadata": {},
     "output_type": "execute_result"
    }
   ],
   "source": [
    "test_data.shape"
   ]
  },
  {
   "cell_type": "code",
   "execution_count": 5,
   "metadata": {},
   "outputs": [
    {
     "data": {
      "text/html": [
       "<div>\n",
       "<style scoped>\n",
       "    .dataframe tbody tr th:only-of-type {\n",
       "        vertical-align: middle;\n",
       "    }\n",
       "\n",
       "    .dataframe tbody tr th {\n",
       "        vertical-align: top;\n",
       "    }\n",
       "\n",
       "    .dataframe thead th {\n",
       "        text-align: right;\n",
       "    }\n",
       "</style>\n",
       "<table border=\"1\" class=\"dataframe\">\n",
       "  <thead>\n",
       "    <tr style=\"text-align: right;\">\n",
       "      <th></th>\n",
       "      <th>Gene Description</th>\n",
       "      <th>Gene Accession Number</th>\n",
       "      <th>1</th>\n",
       "      <th>call</th>\n",
       "      <th>2</th>\n",
       "      <th>call.1</th>\n",
       "      <th>3</th>\n",
       "      <th>call.2</th>\n",
       "      <th>4</th>\n",
       "      <th>call.3</th>\n",
       "      <th>...</th>\n",
       "      <th>29</th>\n",
       "      <th>call.33</th>\n",
       "      <th>30</th>\n",
       "      <th>call.34</th>\n",
       "      <th>31</th>\n",
       "      <th>call.35</th>\n",
       "      <th>32</th>\n",
       "      <th>call.36</th>\n",
       "      <th>33</th>\n",
       "      <th>call.37</th>\n",
       "    </tr>\n",
       "  </thead>\n",
       "  <tbody>\n",
       "    <tr>\n",
       "      <th>0</th>\n",
       "      <td>AFFX-BioB-5_at (endogenous control)</td>\n",
       "      <td>AFFX-BioB-5_at</td>\n",
       "      <td>-214</td>\n",
       "      <td>A</td>\n",
       "      <td>-139</td>\n",
       "      <td>A</td>\n",
       "      <td>-76</td>\n",
       "      <td>A</td>\n",
       "      <td>-135</td>\n",
       "      <td>A</td>\n",
       "      <td>...</td>\n",
       "      <td>15</td>\n",
       "      <td>A</td>\n",
       "      <td>-318</td>\n",
       "      <td>A</td>\n",
       "      <td>-32</td>\n",
       "      <td>A</td>\n",
       "      <td>-124</td>\n",
       "      <td>A</td>\n",
       "      <td>-135</td>\n",
       "      <td>A</td>\n",
       "    </tr>\n",
       "    <tr>\n",
       "      <th>1</th>\n",
       "      <td>AFFX-BioB-M_at (endogenous control)</td>\n",
       "      <td>AFFX-BioB-M_at</td>\n",
       "      <td>-153</td>\n",
       "      <td>A</td>\n",
       "      <td>-73</td>\n",
       "      <td>A</td>\n",
       "      <td>-49</td>\n",
       "      <td>A</td>\n",
       "      <td>-114</td>\n",
       "      <td>A</td>\n",
       "      <td>...</td>\n",
       "      <td>-114</td>\n",
       "      <td>A</td>\n",
       "      <td>-192</td>\n",
       "      <td>A</td>\n",
       "      <td>-49</td>\n",
       "      <td>A</td>\n",
       "      <td>-79</td>\n",
       "      <td>A</td>\n",
       "      <td>-186</td>\n",
       "      <td>A</td>\n",
       "    </tr>\n",
       "    <tr>\n",
       "      <th>2</th>\n",
       "      <td>AFFX-BioB-3_at (endogenous control)</td>\n",
       "      <td>AFFX-BioB-3_at</td>\n",
       "      <td>-58</td>\n",
       "      <td>A</td>\n",
       "      <td>-1</td>\n",
       "      <td>A</td>\n",
       "      <td>-307</td>\n",
       "      <td>A</td>\n",
       "      <td>265</td>\n",
       "      <td>A</td>\n",
       "      <td>...</td>\n",
       "      <td>2</td>\n",
       "      <td>A</td>\n",
       "      <td>-95</td>\n",
       "      <td>A</td>\n",
       "      <td>49</td>\n",
       "      <td>A</td>\n",
       "      <td>-37</td>\n",
       "      <td>A</td>\n",
       "      <td>-70</td>\n",
       "      <td>A</td>\n",
       "    </tr>\n",
       "    <tr>\n",
       "      <th>3</th>\n",
       "      <td>AFFX-BioC-5_at (endogenous control)</td>\n",
       "      <td>AFFX-BioC-5_at</td>\n",
       "      <td>88</td>\n",
       "      <td>A</td>\n",
       "      <td>283</td>\n",
       "      <td>A</td>\n",
       "      <td>309</td>\n",
       "      <td>A</td>\n",
       "      <td>12</td>\n",
       "      <td>A</td>\n",
       "      <td>...</td>\n",
       "      <td>193</td>\n",
       "      <td>A</td>\n",
       "      <td>312</td>\n",
       "      <td>A</td>\n",
       "      <td>230</td>\n",
       "      <td>P</td>\n",
       "      <td>330</td>\n",
       "      <td>A</td>\n",
       "      <td>337</td>\n",
       "      <td>A</td>\n",
       "    </tr>\n",
       "    <tr>\n",
       "      <th>4</th>\n",
       "      <td>AFFX-BioC-3_at (endogenous control)</td>\n",
       "      <td>AFFX-BioC-3_at</td>\n",
       "      <td>-295</td>\n",
       "      <td>A</td>\n",
       "      <td>-264</td>\n",
       "      <td>A</td>\n",
       "      <td>-376</td>\n",
       "      <td>A</td>\n",
       "      <td>-419</td>\n",
       "      <td>A</td>\n",
       "      <td>...</td>\n",
       "      <td>-51</td>\n",
       "      <td>A</td>\n",
       "      <td>-139</td>\n",
       "      <td>A</td>\n",
       "      <td>-367</td>\n",
       "      <td>A</td>\n",
       "      <td>-188</td>\n",
       "      <td>A</td>\n",
       "      <td>-407</td>\n",
       "      <td>A</td>\n",
       "    </tr>\n",
       "  </tbody>\n",
       "</table>\n",
       "<p>5 rows × 78 columns</p>\n",
       "</div>"
      ],
      "text/plain": [
       "                      Gene Description Gene Accession Number    1 call    2  \\\n",
       "0  AFFX-BioB-5_at (endogenous control)        AFFX-BioB-5_at -214    A -139   \n",
       "1  AFFX-BioB-M_at (endogenous control)        AFFX-BioB-M_at -153    A  -73   \n",
       "2  AFFX-BioB-3_at (endogenous control)        AFFX-BioB-3_at  -58    A   -1   \n",
       "3  AFFX-BioC-5_at (endogenous control)        AFFX-BioC-5_at   88    A  283   \n",
       "4  AFFX-BioC-3_at (endogenous control)        AFFX-BioC-3_at -295    A -264   \n",
       "\n",
       "  call.1    3 call.2    4 call.3  ...   29 call.33   30 call.34   31 call.35  \\\n",
       "0      A  -76      A -135      A  ...   15       A -318       A  -32       A   \n",
       "1      A  -49      A -114      A  ... -114       A -192       A  -49       A   \n",
       "2      A -307      A  265      A  ...    2       A  -95       A   49       A   \n",
       "3      A  309      A   12      A  ...  193       A  312       A  230       P   \n",
       "4      A -376      A -419      A  ...  -51       A -139       A -367       A   \n",
       "\n",
       "    32 call.36   33 call.37  \n",
       "0 -124       A -135       A  \n",
       "1  -79       A -186       A  \n",
       "2  -37       A  -70       A  \n",
       "3  330       A  337       A  \n",
       "4 -188       A -407       A  \n",
       "\n",
       "[5 rows x 78 columns]"
      ]
     },
     "execution_count": 5,
     "metadata": {},
     "output_type": "execute_result"
    }
   ],
   "source": [
    "train_data.head()"
   ]
  },
  {
   "cell_type": "code",
   "execution_count": 6,
   "metadata": {},
   "outputs": [
    {
     "data": {
      "text/html": [
       "<div>\n",
       "<style scoped>\n",
       "    .dataframe tbody tr th:only-of-type {\n",
       "        vertical-align: middle;\n",
       "    }\n",
       "\n",
       "    .dataframe tbody tr th {\n",
       "        vertical-align: top;\n",
       "    }\n",
       "\n",
       "    .dataframe thead th {\n",
       "        text-align: right;\n",
       "    }\n",
       "</style>\n",
       "<table border=\"1\" class=\"dataframe\">\n",
       "  <thead>\n",
       "    <tr style=\"text-align: right;\">\n",
       "      <th></th>\n",
       "      <th>Gene Description</th>\n",
       "      <th>Gene Accession Number</th>\n",
       "      <th>39</th>\n",
       "      <th>call</th>\n",
       "      <th>40</th>\n",
       "      <th>call.1</th>\n",
       "      <th>42</th>\n",
       "      <th>call.2</th>\n",
       "      <th>47</th>\n",
       "      <th>call.3</th>\n",
       "      <th>...</th>\n",
       "      <th>65</th>\n",
       "      <th>call.29</th>\n",
       "      <th>66</th>\n",
       "      <th>call.30</th>\n",
       "      <th>63</th>\n",
       "      <th>call.31</th>\n",
       "      <th>64</th>\n",
       "      <th>call.32</th>\n",
       "      <th>62</th>\n",
       "      <th>call.33</th>\n",
       "    </tr>\n",
       "  </thead>\n",
       "  <tbody>\n",
       "    <tr>\n",
       "      <th>0</th>\n",
       "      <td>AFFX-BioB-5_at (endogenous control)</td>\n",
       "      <td>AFFX-BioB-5_at</td>\n",
       "      <td>-342</td>\n",
       "      <td>A</td>\n",
       "      <td>-87</td>\n",
       "      <td>A</td>\n",
       "      <td>22</td>\n",
       "      <td>A</td>\n",
       "      <td>-243</td>\n",
       "      <td>A</td>\n",
       "      <td>...</td>\n",
       "      <td>-62</td>\n",
       "      <td>A</td>\n",
       "      <td>-58</td>\n",
       "      <td>A</td>\n",
       "      <td>-161</td>\n",
       "      <td>A</td>\n",
       "      <td>-48</td>\n",
       "      <td>A</td>\n",
       "      <td>-176</td>\n",
       "      <td>A</td>\n",
       "    </tr>\n",
       "    <tr>\n",
       "      <th>1</th>\n",
       "      <td>AFFX-BioB-M_at (endogenous control)</td>\n",
       "      <td>AFFX-BioB-M_at</td>\n",
       "      <td>-200</td>\n",
       "      <td>A</td>\n",
       "      <td>-248</td>\n",
       "      <td>A</td>\n",
       "      <td>-153</td>\n",
       "      <td>A</td>\n",
       "      <td>-218</td>\n",
       "      <td>A</td>\n",
       "      <td>...</td>\n",
       "      <td>-198</td>\n",
       "      <td>A</td>\n",
       "      <td>-217</td>\n",
       "      <td>A</td>\n",
       "      <td>-215</td>\n",
       "      <td>A</td>\n",
       "      <td>-531</td>\n",
       "      <td>A</td>\n",
       "      <td>-284</td>\n",
       "      <td>A</td>\n",
       "    </tr>\n",
       "    <tr>\n",
       "      <th>2</th>\n",
       "      <td>AFFX-BioB-3_at (endogenous control)</td>\n",
       "      <td>AFFX-BioB-3_at</td>\n",
       "      <td>41</td>\n",
       "      <td>A</td>\n",
       "      <td>262</td>\n",
       "      <td>A</td>\n",
       "      <td>17</td>\n",
       "      <td>A</td>\n",
       "      <td>-163</td>\n",
       "      <td>A</td>\n",
       "      <td>...</td>\n",
       "      <td>-5</td>\n",
       "      <td>A</td>\n",
       "      <td>63</td>\n",
       "      <td>A</td>\n",
       "      <td>-46</td>\n",
       "      <td>A</td>\n",
       "      <td>-124</td>\n",
       "      <td>A</td>\n",
       "      <td>-81</td>\n",
       "      <td>A</td>\n",
       "    </tr>\n",
       "    <tr>\n",
       "      <th>3</th>\n",
       "      <td>AFFX-BioC-5_at (endogenous control)</td>\n",
       "      <td>AFFX-BioC-5_at</td>\n",
       "      <td>328</td>\n",
       "      <td>A</td>\n",
       "      <td>295</td>\n",
       "      <td>A</td>\n",
       "      <td>276</td>\n",
       "      <td>A</td>\n",
       "      <td>182</td>\n",
       "      <td>A</td>\n",
       "      <td>...</td>\n",
       "      <td>141</td>\n",
       "      <td>A</td>\n",
       "      <td>95</td>\n",
       "      <td>A</td>\n",
       "      <td>146</td>\n",
       "      <td>A</td>\n",
       "      <td>431</td>\n",
       "      <td>A</td>\n",
       "      <td>9</td>\n",
       "      <td>A</td>\n",
       "    </tr>\n",
       "    <tr>\n",
       "      <th>4</th>\n",
       "      <td>AFFX-BioC-3_at (endogenous control)</td>\n",
       "      <td>AFFX-BioC-3_at</td>\n",
       "      <td>-224</td>\n",
       "      <td>A</td>\n",
       "      <td>-226</td>\n",
       "      <td>A</td>\n",
       "      <td>-211</td>\n",
       "      <td>A</td>\n",
       "      <td>-289</td>\n",
       "      <td>A</td>\n",
       "      <td>...</td>\n",
       "      <td>-256</td>\n",
       "      <td>A</td>\n",
       "      <td>-191</td>\n",
       "      <td>A</td>\n",
       "      <td>-172</td>\n",
       "      <td>A</td>\n",
       "      <td>-496</td>\n",
       "      <td>A</td>\n",
       "      <td>-294</td>\n",
       "      <td>A</td>\n",
       "    </tr>\n",
       "  </tbody>\n",
       "</table>\n",
       "<p>5 rows × 70 columns</p>\n",
       "</div>"
      ],
      "text/plain": [
       "                      Gene Description Gene Accession Number   39 call   40  \\\n",
       "0  AFFX-BioB-5_at (endogenous control)        AFFX-BioB-5_at -342    A  -87   \n",
       "1  AFFX-BioB-M_at (endogenous control)        AFFX-BioB-M_at -200    A -248   \n",
       "2  AFFX-BioB-3_at (endogenous control)        AFFX-BioB-3_at   41    A  262   \n",
       "3  AFFX-BioC-5_at (endogenous control)        AFFX-BioC-5_at  328    A  295   \n",
       "4  AFFX-BioC-3_at (endogenous control)        AFFX-BioC-3_at -224    A -226   \n",
       "\n",
       "  call.1   42 call.2   47 call.3  ...   65 call.29   66 call.30   63 call.31  \\\n",
       "0      A   22      A -243      A  ...  -62       A  -58       A -161       A   \n",
       "1      A -153      A -218      A  ... -198       A -217       A -215       A   \n",
       "2      A   17      A -163      A  ...   -5       A   63       A  -46       A   \n",
       "3      A  276      A  182      A  ...  141       A   95       A  146       A   \n",
       "4      A -211      A -289      A  ... -256       A -191       A -172       A   \n",
       "\n",
       "    64 call.32   62 call.33  \n",
       "0  -48       A -176       A  \n",
       "1 -531       A -284       A  \n",
       "2 -124       A  -81       A  \n",
       "3  431       A    9       A  \n",
       "4 -496       A -294       A  \n",
       "\n",
       "[5 rows x 70 columns]"
      ]
     },
     "execution_count": 6,
     "metadata": {},
     "output_type": "execute_result"
    }
   ],
   "source": [
    "test_data.head()"
   ]
  },
  {
   "cell_type": "code",
   "execution_count": 7,
   "metadata": {},
   "outputs": [],
   "source": [
    "probe_list = list(test_data['Gene Accession Number'])"
   ]
  },
  {
   "cell_type": "code",
   "execution_count": 8,
   "metadata": {},
   "outputs": [],
   "source": [
    "#merge train and test dataframes"
   ]
  },
  {
   "cell_type": "code",
   "execution_count": 9,
   "metadata": {},
   "outputs": [],
   "source": [
    "all_data = pd.concat([train_data, test_data],axis=1)"
   ]
  },
  {
   "cell_type": "code",
   "execution_count": 10,
   "metadata": {},
   "outputs": [
    {
     "data": {
      "text/plain": [
       "(7129, 148)"
      ]
     },
     "execution_count": 10,
     "metadata": {},
     "output_type": "execute_result"
    }
   ],
   "source": [
    "all_data.shape"
   ]
  },
  {
   "cell_type": "code",
   "execution_count": 11,
   "metadata": {},
   "outputs": [
    {
     "data": {
      "text/html": [
       "<div>\n",
       "<style scoped>\n",
       "    .dataframe tbody tr th:only-of-type {\n",
       "        vertical-align: middle;\n",
       "    }\n",
       "\n",
       "    .dataframe tbody tr th {\n",
       "        vertical-align: top;\n",
       "    }\n",
       "\n",
       "    .dataframe thead th {\n",
       "        text-align: right;\n",
       "    }\n",
       "</style>\n",
       "<table border=\"1\" class=\"dataframe\">\n",
       "  <thead>\n",
       "    <tr style=\"text-align: right;\">\n",
       "      <th></th>\n",
       "      <th>Gene Description</th>\n",
       "      <th>Gene Accession Number</th>\n",
       "      <th>1</th>\n",
       "      <th>call</th>\n",
       "      <th>2</th>\n",
       "      <th>call.1</th>\n",
       "      <th>3</th>\n",
       "      <th>call.2</th>\n",
       "      <th>4</th>\n",
       "      <th>call.3</th>\n",
       "      <th>...</th>\n",
       "      <th>65</th>\n",
       "      <th>call.29</th>\n",
       "      <th>66</th>\n",
       "      <th>call.30</th>\n",
       "      <th>63</th>\n",
       "      <th>call.31</th>\n",
       "      <th>64</th>\n",
       "      <th>call.32</th>\n",
       "      <th>62</th>\n",
       "      <th>call.33</th>\n",
       "    </tr>\n",
       "  </thead>\n",
       "  <tbody>\n",
       "    <tr>\n",
       "      <th>0</th>\n",
       "      <td>AFFX-BioB-5_at (endogenous control)</td>\n",
       "      <td>AFFX-BioB-5_at</td>\n",
       "      <td>-214</td>\n",
       "      <td>A</td>\n",
       "      <td>-139</td>\n",
       "      <td>A</td>\n",
       "      <td>-76</td>\n",
       "      <td>A</td>\n",
       "      <td>-135</td>\n",
       "      <td>A</td>\n",
       "      <td>...</td>\n",
       "      <td>-62</td>\n",
       "      <td>A</td>\n",
       "      <td>-58</td>\n",
       "      <td>A</td>\n",
       "      <td>-161</td>\n",
       "      <td>A</td>\n",
       "      <td>-48</td>\n",
       "      <td>A</td>\n",
       "      <td>-176</td>\n",
       "      <td>A</td>\n",
       "    </tr>\n",
       "    <tr>\n",
       "      <th>1</th>\n",
       "      <td>AFFX-BioB-M_at (endogenous control)</td>\n",
       "      <td>AFFX-BioB-M_at</td>\n",
       "      <td>-153</td>\n",
       "      <td>A</td>\n",
       "      <td>-73</td>\n",
       "      <td>A</td>\n",
       "      <td>-49</td>\n",
       "      <td>A</td>\n",
       "      <td>-114</td>\n",
       "      <td>A</td>\n",
       "      <td>...</td>\n",
       "      <td>-198</td>\n",
       "      <td>A</td>\n",
       "      <td>-217</td>\n",
       "      <td>A</td>\n",
       "      <td>-215</td>\n",
       "      <td>A</td>\n",
       "      <td>-531</td>\n",
       "      <td>A</td>\n",
       "      <td>-284</td>\n",
       "      <td>A</td>\n",
       "    </tr>\n",
       "    <tr>\n",
       "      <th>2</th>\n",
       "      <td>AFFX-BioB-3_at (endogenous control)</td>\n",
       "      <td>AFFX-BioB-3_at</td>\n",
       "      <td>-58</td>\n",
       "      <td>A</td>\n",
       "      <td>-1</td>\n",
       "      <td>A</td>\n",
       "      <td>-307</td>\n",
       "      <td>A</td>\n",
       "      <td>265</td>\n",
       "      <td>A</td>\n",
       "      <td>...</td>\n",
       "      <td>-5</td>\n",
       "      <td>A</td>\n",
       "      <td>63</td>\n",
       "      <td>A</td>\n",
       "      <td>-46</td>\n",
       "      <td>A</td>\n",
       "      <td>-124</td>\n",
       "      <td>A</td>\n",
       "      <td>-81</td>\n",
       "      <td>A</td>\n",
       "    </tr>\n",
       "    <tr>\n",
       "      <th>3</th>\n",
       "      <td>AFFX-BioC-5_at (endogenous control)</td>\n",
       "      <td>AFFX-BioC-5_at</td>\n",
       "      <td>88</td>\n",
       "      <td>A</td>\n",
       "      <td>283</td>\n",
       "      <td>A</td>\n",
       "      <td>309</td>\n",
       "      <td>A</td>\n",
       "      <td>12</td>\n",
       "      <td>A</td>\n",
       "      <td>...</td>\n",
       "      <td>141</td>\n",
       "      <td>A</td>\n",
       "      <td>95</td>\n",
       "      <td>A</td>\n",
       "      <td>146</td>\n",
       "      <td>A</td>\n",
       "      <td>431</td>\n",
       "      <td>A</td>\n",
       "      <td>9</td>\n",
       "      <td>A</td>\n",
       "    </tr>\n",
       "    <tr>\n",
       "      <th>4</th>\n",
       "      <td>AFFX-BioC-3_at (endogenous control)</td>\n",
       "      <td>AFFX-BioC-3_at</td>\n",
       "      <td>-295</td>\n",
       "      <td>A</td>\n",
       "      <td>-264</td>\n",
       "      <td>A</td>\n",
       "      <td>-376</td>\n",
       "      <td>A</td>\n",
       "      <td>-419</td>\n",
       "      <td>A</td>\n",
       "      <td>...</td>\n",
       "      <td>-256</td>\n",
       "      <td>A</td>\n",
       "      <td>-191</td>\n",
       "      <td>A</td>\n",
       "      <td>-172</td>\n",
       "      <td>A</td>\n",
       "      <td>-496</td>\n",
       "      <td>A</td>\n",
       "      <td>-294</td>\n",
       "      <td>A</td>\n",
       "    </tr>\n",
       "  </tbody>\n",
       "</table>\n",
       "<p>5 rows × 148 columns</p>\n",
       "</div>"
      ],
      "text/plain": [
       "                      Gene Description Gene Accession Number    1 call    2  \\\n",
       "0  AFFX-BioB-5_at (endogenous control)        AFFX-BioB-5_at -214    A -139   \n",
       "1  AFFX-BioB-M_at (endogenous control)        AFFX-BioB-M_at -153    A  -73   \n",
       "2  AFFX-BioB-3_at (endogenous control)        AFFX-BioB-3_at  -58    A   -1   \n",
       "3  AFFX-BioC-5_at (endogenous control)        AFFX-BioC-5_at   88    A  283   \n",
       "4  AFFX-BioC-3_at (endogenous control)        AFFX-BioC-3_at -295    A -264   \n",
       "\n",
       "  call.1    3 call.2    4 call.3  ...   65 call.29   66 call.30   63 call.31  \\\n",
       "0      A  -76      A -135      A  ...  -62       A  -58       A -161       A   \n",
       "1      A  -49      A -114      A  ... -198       A -217       A -215       A   \n",
       "2      A -307      A  265      A  ...   -5       A   63       A  -46       A   \n",
       "3      A  309      A   12      A  ...  141       A   95       A  146       A   \n",
       "4      A -376      A -419      A  ... -256       A -191       A -172       A   \n",
       "\n",
       "    64 call.32   62 call.33  \n",
       "0  -48       A -176       A  \n",
       "1 -531       A -284       A  \n",
       "2 -124       A  -81       A  \n",
       "3  431       A    9       A  \n",
       "4 -496       A -294       A  \n",
       "\n",
       "[5 rows x 148 columns]"
      ]
     },
     "execution_count": 11,
     "metadata": {},
     "output_type": "execute_result"
    }
   ],
   "source": [
    "all_data.head()"
   ]
  },
  {
   "cell_type": "code",
   "execution_count": 12,
   "metadata": {},
   "outputs": [],
   "source": [
    "# we can drop 'Gene Accession' and the 'call' columns"
   ]
  },
  {
   "cell_type": "code",
   "execution_count": 13,
   "metadata": {},
   "outputs": [],
   "source": [
    "cols_to_drop = [col for col in train_data.columns if 'call' in col]\n",
    "cols_to_drop.append('Gene Description')"
   ]
  },
  {
   "cell_type": "code",
   "execution_count": 14,
   "metadata": {},
   "outputs": [],
   "source": [
    "all_data.drop(columns=cols_to_drop, inplace=True)"
   ]
  },
  {
   "cell_type": "code",
   "execution_count": 15,
   "metadata": {},
   "outputs": [],
   "source": [
    "all_data.set_index('Gene Accession Number',inplace=True)"
   ]
  },
  {
   "cell_type": "code",
   "execution_count": 16,
   "metadata": {},
   "outputs": [],
   "source": [
    "all_data = all_data.T"
   ]
  },
  {
   "cell_type": "code",
   "execution_count": 17,
   "metadata": {},
   "outputs": [
    {
     "data": {
      "text/html": [
       "<div>\n",
       "<style scoped>\n",
       "    .dataframe tbody tr th:only-of-type {\n",
       "        vertical-align: middle;\n",
       "    }\n",
       "\n",
       "    .dataframe tbody tr th {\n",
       "        vertical-align: top;\n",
       "    }\n",
       "\n",
       "    .dataframe thead th {\n",
       "        text-align: right;\n",
       "    }\n",
       "</style>\n",
       "<table border=\"1\" class=\"dataframe\">\n",
       "  <thead>\n",
       "    <tr style=\"text-align: right;\">\n",
       "      <th>Gene Accession Number</th>\n",
       "      <th>(AFFX-BioB-5_at, AFFX-BioB-5_at)</th>\n",
       "      <th>(AFFX-BioB-M_at, AFFX-BioB-M_at)</th>\n",
       "      <th>(AFFX-BioB-3_at, AFFX-BioB-3_at)</th>\n",
       "      <th>(AFFX-BioC-5_at, AFFX-BioC-5_at)</th>\n",
       "      <th>(AFFX-BioC-3_at, AFFX-BioC-3_at)</th>\n",
       "      <th>(AFFX-BioDn-5_at, AFFX-BioDn-5_at)</th>\n",
       "      <th>(AFFX-BioDn-3_at, AFFX-BioDn-3_at)</th>\n",
       "      <th>(AFFX-CreX-5_at, AFFX-CreX-5_at)</th>\n",
       "      <th>(AFFX-CreX-3_at, AFFX-CreX-3_at)</th>\n",
       "      <th>(AFFX-BioB-5_st, AFFX-BioB-5_st)</th>\n",
       "      <th>...</th>\n",
       "      <th>(U48730_at, U48730_at)</th>\n",
       "      <th>(U58516_at, U58516_at)</th>\n",
       "      <th>(U73738_at, U73738_at)</th>\n",
       "      <th>(X06956_at, X06956_at)</th>\n",
       "      <th>(X16699_at, X16699_at)</th>\n",
       "      <th>(X83863_at, X83863_at)</th>\n",
       "      <th>(Z17240_at, Z17240_at)</th>\n",
       "      <th>(L49218_f_at, L49218_f_at)</th>\n",
       "      <th>(M71243_f_at, M71243_f_at)</th>\n",
       "      <th>(Z78285_f_at, Z78285_f_at)</th>\n",
       "    </tr>\n",
       "  </thead>\n",
       "  <tbody>\n",
       "    <tr>\n",
       "      <th>1</th>\n",
       "      <td>-214</td>\n",
       "      <td>-153</td>\n",
       "      <td>-58</td>\n",
       "      <td>88</td>\n",
       "      <td>-295</td>\n",
       "      <td>-558</td>\n",
       "      <td>199</td>\n",
       "      <td>-176</td>\n",
       "      <td>252</td>\n",
       "      <td>206</td>\n",
       "      <td>...</td>\n",
       "      <td>185</td>\n",
       "      <td>511</td>\n",
       "      <td>-125</td>\n",
       "      <td>389</td>\n",
       "      <td>-37</td>\n",
       "      <td>793</td>\n",
       "      <td>329</td>\n",
       "      <td>36</td>\n",
       "      <td>191</td>\n",
       "      <td>-37</td>\n",
       "    </tr>\n",
       "    <tr>\n",
       "      <th>2</th>\n",
       "      <td>-139</td>\n",
       "      <td>-73</td>\n",
       "      <td>-1</td>\n",
       "      <td>283</td>\n",
       "      <td>-264</td>\n",
       "      <td>-400</td>\n",
       "      <td>-330</td>\n",
       "      <td>-168</td>\n",
       "      <td>101</td>\n",
       "      <td>74</td>\n",
       "      <td>...</td>\n",
       "      <td>169</td>\n",
       "      <td>837</td>\n",
       "      <td>-36</td>\n",
       "      <td>442</td>\n",
       "      <td>-17</td>\n",
       "      <td>782</td>\n",
       "      <td>295</td>\n",
       "      <td>11</td>\n",
       "      <td>76</td>\n",
       "      <td>-14</td>\n",
       "    </tr>\n",
       "    <tr>\n",
       "      <th>3</th>\n",
       "      <td>-76</td>\n",
       "      <td>-49</td>\n",
       "      <td>-307</td>\n",
       "      <td>309</td>\n",
       "      <td>-376</td>\n",
       "      <td>-650</td>\n",
       "      <td>33</td>\n",
       "      <td>-367</td>\n",
       "      <td>206</td>\n",
       "      <td>-215</td>\n",
       "      <td>...</td>\n",
       "      <td>315</td>\n",
       "      <td>1199</td>\n",
       "      <td>33</td>\n",
       "      <td>168</td>\n",
       "      <td>52</td>\n",
       "      <td>1138</td>\n",
       "      <td>777</td>\n",
       "      <td>41</td>\n",
       "      <td>228</td>\n",
       "      <td>-41</td>\n",
       "    </tr>\n",
       "    <tr>\n",
       "      <th>4</th>\n",
       "      <td>-135</td>\n",
       "      <td>-114</td>\n",
       "      <td>265</td>\n",
       "      <td>12</td>\n",
       "      <td>-419</td>\n",
       "      <td>-585</td>\n",
       "      <td>158</td>\n",
       "      <td>-253</td>\n",
       "      <td>49</td>\n",
       "      <td>31</td>\n",
       "      <td>...</td>\n",
       "      <td>240</td>\n",
       "      <td>835</td>\n",
       "      <td>218</td>\n",
       "      <td>174</td>\n",
       "      <td>-110</td>\n",
       "      <td>627</td>\n",
       "      <td>170</td>\n",
       "      <td>-50</td>\n",
       "      <td>126</td>\n",
       "      <td>-91</td>\n",
       "    </tr>\n",
       "    <tr>\n",
       "      <th>5</th>\n",
       "      <td>-106</td>\n",
       "      <td>-125</td>\n",
       "      <td>-76</td>\n",
       "      <td>168</td>\n",
       "      <td>-230</td>\n",
       "      <td>-284</td>\n",
       "      <td>4</td>\n",
       "      <td>-122</td>\n",
       "      <td>70</td>\n",
       "      <td>252</td>\n",
       "      <td>...</td>\n",
       "      <td>156</td>\n",
       "      <td>649</td>\n",
       "      <td>57</td>\n",
       "      <td>504</td>\n",
       "      <td>-26</td>\n",
       "      <td>250</td>\n",
       "      <td>314</td>\n",
       "      <td>14</td>\n",
       "      <td>56</td>\n",
       "      <td>-25</td>\n",
       "    </tr>\n",
       "  </tbody>\n",
       "</table>\n",
       "<p>5 rows × 7129 columns</p>\n",
       "</div>"
      ],
      "text/plain": [
       "Gene Accession Number  (AFFX-BioB-5_at, AFFX-BioB-5_at)  \\\n",
       "1                                                  -214   \n",
       "2                                                  -139   \n",
       "3                                                   -76   \n",
       "4                                                  -135   \n",
       "5                                                  -106   \n",
       "\n",
       "Gene Accession Number  (AFFX-BioB-M_at, AFFX-BioB-M_at)  \\\n",
       "1                                                  -153   \n",
       "2                                                   -73   \n",
       "3                                                   -49   \n",
       "4                                                  -114   \n",
       "5                                                  -125   \n",
       "\n",
       "Gene Accession Number  (AFFX-BioB-3_at, AFFX-BioB-3_at)  \\\n",
       "1                                                   -58   \n",
       "2                                                    -1   \n",
       "3                                                  -307   \n",
       "4                                                   265   \n",
       "5                                                   -76   \n",
       "\n",
       "Gene Accession Number  (AFFX-BioC-5_at, AFFX-BioC-5_at)  \\\n",
       "1                                                    88   \n",
       "2                                                   283   \n",
       "3                                                   309   \n",
       "4                                                    12   \n",
       "5                                                   168   \n",
       "\n",
       "Gene Accession Number  (AFFX-BioC-3_at, AFFX-BioC-3_at)  \\\n",
       "1                                                  -295   \n",
       "2                                                  -264   \n",
       "3                                                  -376   \n",
       "4                                                  -419   \n",
       "5                                                  -230   \n",
       "\n",
       "Gene Accession Number  (AFFX-BioDn-5_at, AFFX-BioDn-5_at)  \\\n",
       "1                                                    -558   \n",
       "2                                                    -400   \n",
       "3                                                    -650   \n",
       "4                                                    -585   \n",
       "5                                                    -284   \n",
       "\n",
       "Gene Accession Number  (AFFX-BioDn-3_at, AFFX-BioDn-3_at)  \\\n",
       "1                                                     199   \n",
       "2                                                    -330   \n",
       "3                                                      33   \n",
       "4                                                     158   \n",
       "5                                                       4   \n",
       "\n",
       "Gene Accession Number  (AFFX-CreX-5_at, AFFX-CreX-5_at)  \\\n",
       "1                                                  -176   \n",
       "2                                                  -168   \n",
       "3                                                  -367   \n",
       "4                                                  -253   \n",
       "5                                                  -122   \n",
       "\n",
       "Gene Accession Number  (AFFX-CreX-3_at, AFFX-CreX-3_at)  \\\n",
       "1                                                   252   \n",
       "2                                                   101   \n",
       "3                                                   206   \n",
       "4                                                    49   \n",
       "5                                                    70   \n",
       "\n",
       "Gene Accession Number  (AFFX-BioB-5_st, AFFX-BioB-5_st)  ...  \\\n",
       "1                                                   206  ...   \n",
       "2                                                    74  ...   \n",
       "3                                                  -215  ...   \n",
       "4                                                    31  ...   \n",
       "5                                                   252  ...   \n",
       "\n",
       "Gene Accession Number  (U48730_at, U48730_at)  (U58516_at, U58516_at)  \\\n",
       "1                                         185                     511   \n",
       "2                                         169                     837   \n",
       "3                                         315                    1199   \n",
       "4                                         240                     835   \n",
       "5                                         156                     649   \n",
       "\n",
       "Gene Accession Number  (U73738_at, U73738_at)  (X06956_at, X06956_at)  \\\n",
       "1                                        -125                     389   \n",
       "2                                         -36                     442   \n",
       "3                                          33                     168   \n",
       "4                                         218                     174   \n",
       "5                                          57                     504   \n",
       "\n",
       "Gene Accession Number  (X16699_at, X16699_at)  (X83863_at, X83863_at)  \\\n",
       "1                                         -37                     793   \n",
       "2                                         -17                     782   \n",
       "3                                          52                    1138   \n",
       "4                                        -110                     627   \n",
       "5                                         -26                     250   \n",
       "\n",
       "Gene Accession Number  (Z17240_at, Z17240_at)  (L49218_f_at, L49218_f_at)  \\\n",
       "1                                         329                          36   \n",
       "2                                         295                          11   \n",
       "3                                         777                          41   \n",
       "4                                         170                         -50   \n",
       "5                                         314                          14   \n",
       "\n",
       "Gene Accession Number  (M71243_f_at, M71243_f_at)  (Z78285_f_at, Z78285_f_at)  \n",
       "1                                             191                         -37  \n",
       "2                                              76                         -14  \n",
       "3                                             228                         -41  \n",
       "4                                             126                         -91  \n",
       "5                                              56                         -25  \n",
       "\n",
       "[5 rows x 7129 columns]"
      ]
     },
     "execution_count": 17,
     "metadata": {},
     "output_type": "execute_result"
    }
   ],
   "source": [
    "all_data.head()"
   ]
  },
  {
   "cell_type": "code",
   "execution_count": 18,
   "metadata": {},
   "outputs": [],
   "source": [
    "all_data = all_data.where(all_data >= 20, 20)"
   ]
  },
  {
   "cell_type": "code",
   "execution_count": 19,
   "metadata": {},
   "outputs": [
    {
     "data": {
      "text/html": [
       "<div>\n",
       "<style scoped>\n",
       "    .dataframe tbody tr th:only-of-type {\n",
       "        vertical-align: middle;\n",
       "    }\n",
       "\n",
       "    .dataframe tbody tr th {\n",
       "        vertical-align: top;\n",
       "    }\n",
       "\n",
       "    .dataframe thead th {\n",
       "        text-align: right;\n",
       "    }\n",
       "</style>\n",
       "<table border=\"1\" class=\"dataframe\">\n",
       "  <thead>\n",
       "    <tr style=\"text-align: right;\">\n",
       "      <th>Gene Accession Number</th>\n",
       "      <th>(AFFX-BioB-5_at, AFFX-BioB-5_at)</th>\n",
       "      <th>(AFFX-BioB-M_at, AFFX-BioB-M_at)</th>\n",
       "      <th>(AFFX-BioB-3_at, AFFX-BioB-3_at)</th>\n",
       "      <th>(AFFX-BioC-5_at, AFFX-BioC-5_at)</th>\n",
       "      <th>(AFFX-BioC-3_at, AFFX-BioC-3_at)</th>\n",
       "      <th>(AFFX-BioDn-5_at, AFFX-BioDn-5_at)</th>\n",
       "      <th>(AFFX-BioDn-3_at, AFFX-BioDn-3_at)</th>\n",
       "      <th>(AFFX-CreX-5_at, AFFX-CreX-5_at)</th>\n",
       "      <th>(AFFX-CreX-3_at, AFFX-CreX-3_at)</th>\n",
       "      <th>(AFFX-BioB-5_st, AFFX-BioB-5_st)</th>\n",
       "      <th>...</th>\n",
       "      <th>(U48730_at, U48730_at)</th>\n",
       "      <th>(U58516_at, U58516_at)</th>\n",
       "      <th>(U73738_at, U73738_at)</th>\n",
       "      <th>(X06956_at, X06956_at)</th>\n",
       "      <th>(X16699_at, X16699_at)</th>\n",
       "      <th>(X83863_at, X83863_at)</th>\n",
       "      <th>(Z17240_at, Z17240_at)</th>\n",
       "      <th>(L49218_f_at, L49218_f_at)</th>\n",
       "      <th>(M71243_f_at, M71243_f_at)</th>\n",
       "      <th>(Z78285_f_at, Z78285_f_at)</th>\n",
       "    </tr>\n",
       "  </thead>\n",
       "  <tbody>\n",
       "    <tr>\n",
       "      <th>1</th>\n",
       "      <td>20</td>\n",
       "      <td>20</td>\n",
       "      <td>20</td>\n",
       "      <td>88</td>\n",
       "      <td>20</td>\n",
       "      <td>20</td>\n",
       "      <td>199</td>\n",
       "      <td>20</td>\n",
       "      <td>252</td>\n",
       "      <td>206</td>\n",
       "      <td>...</td>\n",
       "      <td>185</td>\n",
       "      <td>511</td>\n",
       "      <td>20</td>\n",
       "      <td>389</td>\n",
       "      <td>20</td>\n",
       "      <td>793</td>\n",
       "      <td>329</td>\n",
       "      <td>36</td>\n",
       "      <td>191</td>\n",
       "      <td>20</td>\n",
       "    </tr>\n",
       "    <tr>\n",
       "      <th>2</th>\n",
       "      <td>20</td>\n",
       "      <td>20</td>\n",
       "      <td>20</td>\n",
       "      <td>283</td>\n",
       "      <td>20</td>\n",
       "      <td>20</td>\n",
       "      <td>20</td>\n",
       "      <td>20</td>\n",
       "      <td>101</td>\n",
       "      <td>74</td>\n",
       "      <td>...</td>\n",
       "      <td>169</td>\n",
       "      <td>837</td>\n",
       "      <td>20</td>\n",
       "      <td>442</td>\n",
       "      <td>20</td>\n",
       "      <td>782</td>\n",
       "      <td>295</td>\n",
       "      <td>20</td>\n",
       "      <td>76</td>\n",
       "      <td>20</td>\n",
       "    </tr>\n",
       "    <tr>\n",
       "      <th>3</th>\n",
       "      <td>20</td>\n",
       "      <td>20</td>\n",
       "      <td>20</td>\n",
       "      <td>309</td>\n",
       "      <td>20</td>\n",
       "      <td>20</td>\n",
       "      <td>33</td>\n",
       "      <td>20</td>\n",
       "      <td>206</td>\n",
       "      <td>20</td>\n",
       "      <td>...</td>\n",
       "      <td>315</td>\n",
       "      <td>1199</td>\n",
       "      <td>33</td>\n",
       "      <td>168</td>\n",
       "      <td>52</td>\n",
       "      <td>1138</td>\n",
       "      <td>777</td>\n",
       "      <td>41</td>\n",
       "      <td>228</td>\n",
       "      <td>20</td>\n",
       "    </tr>\n",
       "    <tr>\n",
       "      <th>4</th>\n",
       "      <td>20</td>\n",
       "      <td>20</td>\n",
       "      <td>265</td>\n",
       "      <td>20</td>\n",
       "      <td>20</td>\n",
       "      <td>20</td>\n",
       "      <td>158</td>\n",
       "      <td>20</td>\n",
       "      <td>49</td>\n",
       "      <td>31</td>\n",
       "      <td>...</td>\n",
       "      <td>240</td>\n",
       "      <td>835</td>\n",
       "      <td>218</td>\n",
       "      <td>174</td>\n",
       "      <td>20</td>\n",
       "      <td>627</td>\n",
       "      <td>170</td>\n",
       "      <td>20</td>\n",
       "      <td>126</td>\n",
       "      <td>20</td>\n",
       "    </tr>\n",
       "    <tr>\n",
       "      <th>5</th>\n",
       "      <td>20</td>\n",
       "      <td>20</td>\n",
       "      <td>20</td>\n",
       "      <td>168</td>\n",
       "      <td>20</td>\n",
       "      <td>20</td>\n",
       "      <td>20</td>\n",
       "      <td>20</td>\n",
       "      <td>70</td>\n",
       "      <td>252</td>\n",
       "      <td>...</td>\n",
       "      <td>156</td>\n",
       "      <td>649</td>\n",
       "      <td>57</td>\n",
       "      <td>504</td>\n",
       "      <td>20</td>\n",
       "      <td>250</td>\n",
       "      <td>314</td>\n",
       "      <td>20</td>\n",
       "      <td>56</td>\n",
       "      <td>20</td>\n",
       "    </tr>\n",
       "  </tbody>\n",
       "</table>\n",
       "<p>5 rows × 7129 columns</p>\n",
       "</div>"
      ],
      "text/plain": [
       "Gene Accession Number  (AFFX-BioB-5_at, AFFX-BioB-5_at)  \\\n",
       "1                                                    20   \n",
       "2                                                    20   \n",
       "3                                                    20   \n",
       "4                                                    20   \n",
       "5                                                    20   \n",
       "\n",
       "Gene Accession Number  (AFFX-BioB-M_at, AFFX-BioB-M_at)  \\\n",
       "1                                                    20   \n",
       "2                                                    20   \n",
       "3                                                    20   \n",
       "4                                                    20   \n",
       "5                                                    20   \n",
       "\n",
       "Gene Accession Number  (AFFX-BioB-3_at, AFFX-BioB-3_at)  \\\n",
       "1                                                    20   \n",
       "2                                                    20   \n",
       "3                                                    20   \n",
       "4                                                   265   \n",
       "5                                                    20   \n",
       "\n",
       "Gene Accession Number  (AFFX-BioC-5_at, AFFX-BioC-5_at)  \\\n",
       "1                                                    88   \n",
       "2                                                   283   \n",
       "3                                                   309   \n",
       "4                                                    20   \n",
       "5                                                   168   \n",
       "\n",
       "Gene Accession Number  (AFFX-BioC-3_at, AFFX-BioC-3_at)  \\\n",
       "1                                                    20   \n",
       "2                                                    20   \n",
       "3                                                    20   \n",
       "4                                                    20   \n",
       "5                                                    20   \n",
       "\n",
       "Gene Accession Number  (AFFX-BioDn-5_at, AFFX-BioDn-5_at)  \\\n",
       "1                                                      20   \n",
       "2                                                      20   \n",
       "3                                                      20   \n",
       "4                                                      20   \n",
       "5                                                      20   \n",
       "\n",
       "Gene Accession Number  (AFFX-BioDn-3_at, AFFX-BioDn-3_at)  \\\n",
       "1                                                     199   \n",
       "2                                                      20   \n",
       "3                                                      33   \n",
       "4                                                     158   \n",
       "5                                                      20   \n",
       "\n",
       "Gene Accession Number  (AFFX-CreX-5_at, AFFX-CreX-5_at)  \\\n",
       "1                                                    20   \n",
       "2                                                    20   \n",
       "3                                                    20   \n",
       "4                                                    20   \n",
       "5                                                    20   \n",
       "\n",
       "Gene Accession Number  (AFFX-CreX-3_at, AFFX-CreX-3_at)  \\\n",
       "1                                                   252   \n",
       "2                                                   101   \n",
       "3                                                   206   \n",
       "4                                                    49   \n",
       "5                                                    70   \n",
       "\n",
       "Gene Accession Number  (AFFX-BioB-5_st, AFFX-BioB-5_st)  ...  \\\n",
       "1                                                   206  ...   \n",
       "2                                                    74  ...   \n",
       "3                                                    20  ...   \n",
       "4                                                    31  ...   \n",
       "5                                                   252  ...   \n",
       "\n",
       "Gene Accession Number  (U48730_at, U48730_at)  (U58516_at, U58516_at)  \\\n",
       "1                                         185                     511   \n",
       "2                                         169                     837   \n",
       "3                                         315                    1199   \n",
       "4                                         240                     835   \n",
       "5                                         156                     649   \n",
       "\n",
       "Gene Accession Number  (U73738_at, U73738_at)  (X06956_at, X06956_at)  \\\n",
       "1                                          20                     389   \n",
       "2                                          20                     442   \n",
       "3                                          33                     168   \n",
       "4                                         218                     174   \n",
       "5                                          57                     504   \n",
       "\n",
       "Gene Accession Number  (X16699_at, X16699_at)  (X83863_at, X83863_at)  \\\n",
       "1                                          20                     793   \n",
       "2                                          20                     782   \n",
       "3                                          52                    1138   \n",
       "4                                          20                     627   \n",
       "5                                          20                     250   \n",
       "\n",
       "Gene Accession Number  (Z17240_at, Z17240_at)  (L49218_f_at, L49218_f_at)  \\\n",
       "1                                         329                          36   \n",
       "2                                         295                          20   \n",
       "3                                         777                          41   \n",
       "4                                         170                          20   \n",
       "5                                         314                          20   \n",
       "\n",
       "Gene Accession Number  (M71243_f_at, M71243_f_at)  (Z78285_f_at, Z78285_f_at)  \n",
       "1                                             191                          20  \n",
       "2                                              76                          20  \n",
       "3                                             228                          20  \n",
       "4                                             126                          20  \n",
       "5                                              56                          20  \n",
       "\n",
       "[5 rows x 7129 columns]"
      ]
     },
     "execution_count": 19,
     "metadata": {},
     "output_type": "execute_result"
    }
   ],
   "source": [
    "all_data.head()"
   ]
  },
  {
   "cell_type": "code",
   "execution_count": 20,
   "metadata": {},
   "outputs": [],
   "source": [
    "all_data.columns = probe_list"
   ]
  },
  {
   "cell_type": "code",
   "execution_count": 21,
   "metadata": {},
   "outputs": [],
   "source": [
    "all_data.reset_index(inplace=True)"
   ]
  },
  {
   "cell_type": "code",
   "execution_count": 22,
   "metadata": {},
   "outputs": [
    {
     "data": {
      "text/html": [
       "<div>\n",
       "<style scoped>\n",
       "    .dataframe tbody tr th:only-of-type {\n",
       "        vertical-align: middle;\n",
       "    }\n",
       "\n",
       "    .dataframe tbody tr th {\n",
       "        vertical-align: top;\n",
       "    }\n",
       "\n",
       "    .dataframe thead th {\n",
       "        text-align: right;\n",
       "    }\n",
       "</style>\n",
       "<table border=\"1\" class=\"dataframe\">\n",
       "  <thead>\n",
       "    <tr style=\"text-align: right;\">\n",
       "      <th></th>\n",
       "      <th>index</th>\n",
       "      <th>AFFX-BioB-5_at</th>\n",
       "      <th>AFFX-BioB-M_at</th>\n",
       "      <th>AFFX-BioB-3_at</th>\n",
       "      <th>AFFX-BioC-5_at</th>\n",
       "      <th>AFFX-BioC-3_at</th>\n",
       "      <th>AFFX-BioDn-5_at</th>\n",
       "      <th>AFFX-BioDn-3_at</th>\n",
       "      <th>AFFX-CreX-5_at</th>\n",
       "      <th>AFFX-CreX-3_at</th>\n",
       "      <th>...</th>\n",
       "      <th>U48730_at</th>\n",
       "      <th>U58516_at</th>\n",
       "      <th>U73738_at</th>\n",
       "      <th>X06956_at</th>\n",
       "      <th>X16699_at</th>\n",
       "      <th>X83863_at</th>\n",
       "      <th>Z17240_at</th>\n",
       "      <th>L49218_f_at</th>\n",
       "      <th>M71243_f_at</th>\n",
       "      <th>Z78285_f_at</th>\n",
       "    </tr>\n",
       "  </thead>\n",
       "  <tbody>\n",
       "    <tr>\n",
       "      <th>0</th>\n",
       "      <td>1</td>\n",
       "      <td>20</td>\n",
       "      <td>20</td>\n",
       "      <td>20</td>\n",
       "      <td>88</td>\n",
       "      <td>20</td>\n",
       "      <td>20</td>\n",
       "      <td>199</td>\n",
       "      <td>20</td>\n",
       "      <td>252</td>\n",
       "      <td>...</td>\n",
       "      <td>185</td>\n",
       "      <td>511</td>\n",
       "      <td>20</td>\n",
       "      <td>389</td>\n",
       "      <td>20</td>\n",
       "      <td>793</td>\n",
       "      <td>329</td>\n",
       "      <td>36</td>\n",
       "      <td>191</td>\n",
       "      <td>20</td>\n",
       "    </tr>\n",
       "    <tr>\n",
       "      <th>1</th>\n",
       "      <td>2</td>\n",
       "      <td>20</td>\n",
       "      <td>20</td>\n",
       "      <td>20</td>\n",
       "      <td>283</td>\n",
       "      <td>20</td>\n",
       "      <td>20</td>\n",
       "      <td>20</td>\n",
       "      <td>20</td>\n",
       "      <td>101</td>\n",
       "      <td>...</td>\n",
       "      <td>169</td>\n",
       "      <td>837</td>\n",
       "      <td>20</td>\n",
       "      <td>442</td>\n",
       "      <td>20</td>\n",
       "      <td>782</td>\n",
       "      <td>295</td>\n",
       "      <td>20</td>\n",
       "      <td>76</td>\n",
       "      <td>20</td>\n",
       "    </tr>\n",
       "    <tr>\n",
       "      <th>2</th>\n",
       "      <td>3</td>\n",
       "      <td>20</td>\n",
       "      <td>20</td>\n",
       "      <td>20</td>\n",
       "      <td>309</td>\n",
       "      <td>20</td>\n",
       "      <td>20</td>\n",
       "      <td>33</td>\n",
       "      <td>20</td>\n",
       "      <td>206</td>\n",
       "      <td>...</td>\n",
       "      <td>315</td>\n",
       "      <td>1199</td>\n",
       "      <td>33</td>\n",
       "      <td>168</td>\n",
       "      <td>52</td>\n",
       "      <td>1138</td>\n",
       "      <td>777</td>\n",
       "      <td>41</td>\n",
       "      <td>228</td>\n",
       "      <td>20</td>\n",
       "    </tr>\n",
       "    <tr>\n",
       "      <th>3</th>\n",
       "      <td>4</td>\n",
       "      <td>20</td>\n",
       "      <td>20</td>\n",
       "      <td>265</td>\n",
       "      <td>20</td>\n",
       "      <td>20</td>\n",
       "      <td>20</td>\n",
       "      <td>158</td>\n",
       "      <td>20</td>\n",
       "      <td>49</td>\n",
       "      <td>...</td>\n",
       "      <td>240</td>\n",
       "      <td>835</td>\n",
       "      <td>218</td>\n",
       "      <td>174</td>\n",
       "      <td>20</td>\n",
       "      <td>627</td>\n",
       "      <td>170</td>\n",
       "      <td>20</td>\n",
       "      <td>126</td>\n",
       "      <td>20</td>\n",
       "    </tr>\n",
       "    <tr>\n",
       "      <th>4</th>\n",
       "      <td>5</td>\n",
       "      <td>20</td>\n",
       "      <td>20</td>\n",
       "      <td>20</td>\n",
       "      <td>168</td>\n",
       "      <td>20</td>\n",
       "      <td>20</td>\n",
       "      <td>20</td>\n",
       "      <td>20</td>\n",
       "      <td>70</td>\n",
       "      <td>...</td>\n",
       "      <td>156</td>\n",
       "      <td>649</td>\n",
       "      <td>57</td>\n",
       "      <td>504</td>\n",
       "      <td>20</td>\n",
       "      <td>250</td>\n",
       "      <td>314</td>\n",
       "      <td>20</td>\n",
       "      <td>56</td>\n",
       "      <td>20</td>\n",
       "    </tr>\n",
       "  </tbody>\n",
       "</table>\n",
       "<p>5 rows × 7130 columns</p>\n",
       "</div>"
      ],
      "text/plain": [
       "  index  AFFX-BioB-5_at  AFFX-BioB-M_at  AFFX-BioB-3_at  AFFX-BioC-5_at  \\\n",
       "0     1              20              20              20              88   \n",
       "1     2              20              20              20             283   \n",
       "2     3              20              20              20             309   \n",
       "3     4              20              20             265              20   \n",
       "4     5              20              20              20             168   \n",
       "\n",
       "   AFFX-BioC-3_at  AFFX-BioDn-5_at  AFFX-BioDn-3_at  AFFX-CreX-5_at  \\\n",
       "0              20               20              199              20   \n",
       "1              20               20               20              20   \n",
       "2              20               20               33              20   \n",
       "3              20               20              158              20   \n",
       "4              20               20               20              20   \n",
       "\n",
       "   AFFX-CreX-3_at  ...  U48730_at  U58516_at  U73738_at  X06956_at  X16699_at  \\\n",
       "0             252  ...        185        511         20        389         20   \n",
       "1             101  ...        169        837         20        442         20   \n",
       "2             206  ...        315       1199         33        168         52   \n",
       "3              49  ...        240        835        218        174         20   \n",
       "4              70  ...        156        649         57        504         20   \n",
       "\n",
       "   X83863_at  Z17240_at  L49218_f_at  M71243_f_at  Z78285_f_at  \n",
       "0        793        329           36          191           20  \n",
       "1        782        295           20           76           20  \n",
       "2       1138        777           41          228           20  \n",
       "3        627        170           20          126           20  \n",
       "4        250        314           20           56           20  \n",
       "\n",
       "[5 rows x 7130 columns]"
      ]
     },
     "execution_count": 22,
     "metadata": {},
     "output_type": "execute_result"
    }
   ],
   "source": [
    "all_data.head()"
   ]
  },
  {
   "cell_type": "code",
   "execution_count": 23,
   "metadata": {},
   "outputs": [
    {
     "data": {
      "text/plain": [
       "(72, 7130)"
      ]
     },
     "execution_count": 23,
     "metadata": {},
     "output_type": "execute_result"
    }
   ],
   "source": [
    "all_data.shape"
   ]
  },
  {
   "cell_type": "code",
   "execution_count": 24,
   "metadata": {},
   "outputs": [],
   "source": [
    "all_data.rename(columns={'index':'patient'},inplace=True)"
   ]
  },
  {
   "cell_type": "code",
   "execution_count": 25,
   "metadata": {},
   "outputs": [
    {
     "data": {
      "text/html": [
       "<div>\n",
       "<style scoped>\n",
       "    .dataframe tbody tr th:only-of-type {\n",
       "        vertical-align: middle;\n",
       "    }\n",
       "\n",
       "    .dataframe tbody tr th {\n",
       "        vertical-align: top;\n",
       "    }\n",
       "\n",
       "    .dataframe thead th {\n",
       "        text-align: right;\n",
       "    }\n",
       "</style>\n",
       "<table border=\"1\" class=\"dataframe\">\n",
       "  <thead>\n",
       "    <tr style=\"text-align: right;\">\n",
       "      <th></th>\n",
       "      <th>patient</th>\n",
       "      <th>AFFX-BioB-5_at</th>\n",
       "      <th>AFFX-BioB-M_at</th>\n",
       "      <th>AFFX-BioB-3_at</th>\n",
       "      <th>AFFX-BioC-5_at</th>\n",
       "      <th>AFFX-BioC-3_at</th>\n",
       "      <th>AFFX-BioDn-5_at</th>\n",
       "      <th>AFFX-BioDn-3_at</th>\n",
       "      <th>AFFX-CreX-5_at</th>\n",
       "      <th>AFFX-CreX-3_at</th>\n",
       "      <th>...</th>\n",
       "      <th>U48730_at</th>\n",
       "      <th>U58516_at</th>\n",
       "      <th>U73738_at</th>\n",
       "      <th>X06956_at</th>\n",
       "      <th>X16699_at</th>\n",
       "      <th>X83863_at</th>\n",
       "      <th>Z17240_at</th>\n",
       "      <th>L49218_f_at</th>\n",
       "      <th>M71243_f_at</th>\n",
       "      <th>Z78285_f_at</th>\n",
       "    </tr>\n",
       "  </thead>\n",
       "  <tbody>\n",
       "    <tr>\n",
       "      <th>0</th>\n",
       "      <td>1</td>\n",
       "      <td>20</td>\n",
       "      <td>20</td>\n",
       "      <td>20</td>\n",
       "      <td>88</td>\n",
       "      <td>20</td>\n",
       "      <td>20</td>\n",
       "      <td>199</td>\n",
       "      <td>20</td>\n",
       "      <td>252</td>\n",
       "      <td>...</td>\n",
       "      <td>185</td>\n",
       "      <td>511</td>\n",
       "      <td>20</td>\n",
       "      <td>389</td>\n",
       "      <td>20</td>\n",
       "      <td>793</td>\n",
       "      <td>329</td>\n",
       "      <td>36</td>\n",
       "      <td>191</td>\n",
       "      <td>20</td>\n",
       "    </tr>\n",
       "    <tr>\n",
       "      <th>1</th>\n",
       "      <td>2</td>\n",
       "      <td>20</td>\n",
       "      <td>20</td>\n",
       "      <td>20</td>\n",
       "      <td>283</td>\n",
       "      <td>20</td>\n",
       "      <td>20</td>\n",
       "      <td>20</td>\n",
       "      <td>20</td>\n",
       "      <td>101</td>\n",
       "      <td>...</td>\n",
       "      <td>169</td>\n",
       "      <td>837</td>\n",
       "      <td>20</td>\n",
       "      <td>442</td>\n",
       "      <td>20</td>\n",
       "      <td>782</td>\n",
       "      <td>295</td>\n",
       "      <td>20</td>\n",
       "      <td>76</td>\n",
       "      <td>20</td>\n",
       "    </tr>\n",
       "    <tr>\n",
       "      <th>2</th>\n",
       "      <td>3</td>\n",
       "      <td>20</td>\n",
       "      <td>20</td>\n",
       "      <td>20</td>\n",
       "      <td>309</td>\n",
       "      <td>20</td>\n",
       "      <td>20</td>\n",
       "      <td>33</td>\n",
       "      <td>20</td>\n",
       "      <td>206</td>\n",
       "      <td>...</td>\n",
       "      <td>315</td>\n",
       "      <td>1199</td>\n",
       "      <td>33</td>\n",
       "      <td>168</td>\n",
       "      <td>52</td>\n",
       "      <td>1138</td>\n",
       "      <td>777</td>\n",
       "      <td>41</td>\n",
       "      <td>228</td>\n",
       "      <td>20</td>\n",
       "    </tr>\n",
       "    <tr>\n",
       "      <th>3</th>\n",
       "      <td>4</td>\n",
       "      <td>20</td>\n",
       "      <td>20</td>\n",
       "      <td>265</td>\n",
       "      <td>20</td>\n",
       "      <td>20</td>\n",
       "      <td>20</td>\n",
       "      <td>158</td>\n",
       "      <td>20</td>\n",
       "      <td>49</td>\n",
       "      <td>...</td>\n",
       "      <td>240</td>\n",
       "      <td>835</td>\n",
       "      <td>218</td>\n",
       "      <td>174</td>\n",
       "      <td>20</td>\n",
       "      <td>627</td>\n",
       "      <td>170</td>\n",
       "      <td>20</td>\n",
       "      <td>126</td>\n",
       "      <td>20</td>\n",
       "    </tr>\n",
       "    <tr>\n",
       "      <th>4</th>\n",
       "      <td>5</td>\n",
       "      <td>20</td>\n",
       "      <td>20</td>\n",
       "      <td>20</td>\n",
       "      <td>168</td>\n",
       "      <td>20</td>\n",
       "      <td>20</td>\n",
       "      <td>20</td>\n",
       "      <td>20</td>\n",
       "      <td>70</td>\n",
       "      <td>...</td>\n",
       "      <td>156</td>\n",
       "      <td>649</td>\n",
       "      <td>57</td>\n",
       "      <td>504</td>\n",
       "      <td>20</td>\n",
       "      <td>250</td>\n",
       "      <td>314</td>\n",
       "      <td>20</td>\n",
       "      <td>56</td>\n",
       "      <td>20</td>\n",
       "    </tr>\n",
       "    <tr>\n",
       "      <th>5</th>\n",
       "      <td>6</td>\n",
       "      <td>20</td>\n",
       "      <td>20</td>\n",
       "      <td>215</td>\n",
       "      <td>71</td>\n",
       "      <td>20</td>\n",
       "      <td>20</td>\n",
       "      <td>67</td>\n",
       "      <td>20</td>\n",
       "      <td>87</td>\n",
       "      <td>...</td>\n",
       "      <td>115</td>\n",
       "      <td>1221</td>\n",
       "      <td>20</td>\n",
       "      <td>172</td>\n",
       "      <td>20</td>\n",
       "      <td>645</td>\n",
       "      <td>341</td>\n",
       "      <td>26</td>\n",
       "      <td>193</td>\n",
       "      <td>20</td>\n",
       "    </tr>\n",
       "    <tr>\n",
       "      <th>6</th>\n",
       "      <td>7</td>\n",
       "      <td>20</td>\n",
       "      <td>20</td>\n",
       "      <td>238</td>\n",
       "      <td>55</td>\n",
       "      <td>20</td>\n",
       "      <td>20</td>\n",
       "      <td>131</td>\n",
       "      <td>20</td>\n",
       "      <td>126</td>\n",
       "      <td>...</td>\n",
       "      <td>30</td>\n",
       "      <td>819</td>\n",
       "      <td>20</td>\n",
       "      <td>151</td>\n",
       "      <td>20</td>\n",
       "      <td>1140</td>\n",
       "      <td>482</td>\n",
       "      <td>20</td>\n",
       "      <td>369</td>\n",
       "      <td>20</td>\n",
       "    </tr>\n",
       "    <tr>\n",
       "      <th>7</th>\n",
       "      <td>8</td>\n",
       "      <td>20</td>\n",
       "      <td>20</td>\n",
       "      <td>20</td>\n",
       "      <td>20</td>\n",
       "      <td>20</td>\n",
       "      <td>20</td>\n",
       "      <td>20</td>\n",
       "      <td>20</td>\n",
       "      <td>70</td>\n",
       "      <td>...</td>\n",
       "      <td>289</td>\n",
       "      <td>629</td>\n",
       "      <td>20</td>\n",
       "      <td>302</td>\n",
       "      <td>23</td>\n",
       "      <td>1799</td>\n",
       "      <td>446</td>\n",
       "      <td>59</td>\n",
       "      <td>781</td>\n",
       "      <td>20</td>\n",
       "    </tr>\n",
       "    <tr>\n",
       "      <th>8</th>\n",
       "      <td>9</td>\n",
       "      <td>20</td>\n",
       "      <td>20</td>\n",
       "      <td>106</td>\n",
       "      <td>268</td>\n",
       "      <td>20</td>\n",
       "      <td>20</td>\n",
       "      <td>20</td>\n",
       "      <td>20</td>\n",
       "      <td>24</td>\n",
       "      <td>...</td>\n",
       "      <td>356</td>\n",
       "      <td>980</td>\n",
       "      <td>20</td>\n",
       "      <td>177</td>\n",
       "      <td>20</td>\n",
       "      <td>758</td>\n",
       "      <td>385</td>\n",
       "      <td>115</td>\n",
       "      <td>244</td>\n",
       "      <td>20</td>\n",
       "    </tr>\n",
       "    <tr>\n",
       "      <th>9</th>\n",
       "      <td>10</td>\n",
       "      <td>20</td>\n",
       "      <td>20</td>\n",
       "      <td>42</td>\n",
       "      <td>219</td>\n",
       "      <td>20</td>\n",
       "      <td>20</td>\n",
       "      <td>328</td>\n",
       "      <td>20</td>\n",
       "      <td>177</td>\n",
       "      <td>...</td>\n",
       "      <td>42</td>\n",
       "      <td>986</td>\n",
       "      <td>26</td>\n",
       "      <td>101</td>\n",
       "      <td>21</td>\n",
       "      <td>570</td>\n",
       "      <td>359</td>\n",
       "      <td>20</td>\n",
       "      <td>171</td>\n",
       "      <td>20</td>\n",
       "    </tr>\n",
       "  </tbody>\n",
       "</table>\n",
       "<p>10 rows × 7130 columns</p>\n",
       "</div>"
      ],
      "text/plain": [
       "  patient  AFFX-BioB-5_at  AFFX-BioB-M_at  AFFX-BioB-3_at  AFFX-BioC-5_at  \\\n",
       "0       1              20              20              20              88   \n",
       "1       2              20              20              20             283   \n",
       "2       3              20              20              20             309   \n",
       "3       4              20              20             265              20   \n",
       "4       5              20              20              20             168   \n",
       "5       6              20              20             215              71   \n",
       "6       7              20              20             238              55   \n",
       "7       8              20              20              20              20   \n",
       "8       9              20              20             106             268   \n",
       "9      10              20              20              42             219   \n",
       "\n",
       "   AFFX-BioC-3_at  AFFX-BioDn-5_at  AFFX-BioDn-3_at  AFFX-CreX-5_at  \\\n",
       "0              20               20              199              20   \n",
       "1              20               20               20              20   \n",
       "2              20               20               33              20   \n",
       "3              20               20              158              20   \n",
       "4              20               20               20              20   \n",
       "5              20               20               67              20   \n",
       "6              20               20              131              20   \n",
       "7              20               20               20              20   \n",
       "8              20               20               20              20   \n",
       "9              20               20              328              20   \n",
       "\n",
       "   AFFX-CreX-3_at  ...  U48730_at  U58516_at  U73738_at  X06956_at  X16699_at  \\\n",
       "0             252  ...        185        511         20        389         20   \n",
       "1             101  ...        169        837         20        442         20   \n",
       "2             206  ...        315       1199         33        168         52   \n",
       "3              49  ...        240        835        218        174         20   \n",
       "4              70  ...        156        649         57        504         20   \n",
       "5              87  ...        115       1221         20        172         20   \n",
       "6             126  ...         30        819         20        151         20   \n",
       "7              70  ...        289        629         20        302         23   \n",
       "8              24  ...        356        980         20        177         20   \n",
       "9             177  ...         42        986         26        101         21   \n",
       "\n",
       "   X83863_at  Z17240_at  L49218_f_at  M71243_f_at  Z78285_f_at  \n",
       "0        793        329           36          191           20  \n",
       "1        782        295           20           76           20  \n",
       "2       1138        777           41          228           20  \n",
       "3        627        170           20          126           20  \n",
       "4        250        314           20           56           20  \n",
       "5        645        341           26          193           20  \n",
       "6       1140        482           20          369           20  \n",
       "7       1799        446           59          781           20  \n",
       "8        758        385          115          244           20  \n",
       "9        570        359           20          171           20  \n",
       "\n",
       "[10 rows x 7130 columns]"
      ]
     },
     "execution_count": 25,
     "metadata": {},
     "output_type": "execute_result"
    }
   ],
   "source": [
    "all_data.head(10)"
   ]
  },
  {
   "cell_type": "code",
   "execution_count": 26,
   "metadata": {},
   "outputs": [],
   "source": [
    "labels.patient = pd.to_numeric(labels.patient)"
   ]
  },
  {
   "cell_type": "code",
   "execution_count": 27,
   "metadata": {},
   "outputs": [
    {
     "data": {
      "text/plain": [
       "patient     int64\n",
       "cancer     object\n",
       "dtype: object"
      ]
     },
     "execution_count": 27,
     "metadata": {},
     "output_type": "execute_result"
    }
   ],
   "source": [
    "labels.dtypes"
   ]
  },
  {
   "cell_type": "code",
   "execution_count": 28,
   "metadata": {},
   "outputs": [],
   "source": [
    "all_data.patient = pd.to_numeric(all_data.patient)"
   ]
  },
  {
   "cell_type": "code",
   "execution_count": 29,
   "metadata": {},
   "outputs": [
    {
     "data": {
      "text/plain": [
       "dtype('int64')"
      ]
     },
     "execution_count": 29,
     "metadata": {},
     "output_type": "execute_result"
    }
   ],
   "source": [
    "all_data.patient.dtype"
   ]
  },
  {
   "cell_type": "code",
   "execution_count": 30,
   "metadata": {},
   "outputs": [],
   "source": [
    "data = pd.merge(all_data, labels,on='patient') "
   ]
  },
  {
   "cell_type": "code",
   "execution_count": 31,
   "metadata": {},
   "outputs": [
    {
     "data": {
      "text/html": [
       "<div>\n",
       "<style scoped>\n",
       "    .dataframe tbody tr th:only-of-type {\n",
       "        vertical-align: middle;\n",
       "    }\n",
       "\n",
       "    .dataframe tbody tr th {\n",
       "        vertical-align: top;\n",
       "    }\n",
       "\n",
       "    .dataframe thead th {\n",
       "        text-align: right;\n",
       "    }\n",
       "</style>\n",
       "<table border=\"1\" class=\"dataframe\">\n",
       "  <thead>\n",
       "    <tr style=\"text-align: right;\">\n",
       "      <th></th>\n",
       "      <th>patient</th>\n",
       "      <th>AFFX-BioB-5_at</th>\n",
       "      <th>AFFX-BioB-M_at</th>\n",
       "      <th>AFFX-BioB-3_at</th>\n",
       "      <th>AFFX-BioC-5_at</th>\n",
       "      <th>AFFX-BioC-3_at</th>\n",
       "      <th>AFFX-BioDn-5_at</th>\n",
       "      <th>AFFX-BioDn-3_at</th>\n",
       "      <th>AFFX-CreX-5_at</th>\n",
       "      <th>AFFX-CreX-3_at</th>\n",
       "      <th>...</th>\n",
       "      <th>U58516_at</th>\n",
       "      <th>U73738_at</th>\n",
       "      <th>X06956_at</th>\n",
       "      <th>X16699_at</th>\n",
       "      <th>X83863_at</th>\n",
       "      <th>Z17240_at</th>\n",
       "      <th>L49218_f_at</th>\n",
       "      <th>M71243_f_at</th>\n",
       "      <th>Z78285_f_at</th>\n",
       "      <th>cancer</th>\n",
       "    </tr>\n",
       "  </thead>\n",
       "  <tbody>\n",
       "    <tr>\n",
       "      <th>0</th>\n",
       "      <td>1</td>\n",
       "      <td>20</td>\n",
       "      <td>20</td>\n",
       "      <td>20</td>\n",
       "      <td>88</td>\n",
       "      <td>20</td>\n",
       "      <td>20</td>\n",
       "      <td>199</td>\n",
       "      <td>20</td>\n",
       "      <td>252</td>\n",
       "      <td>...</td>\n",
       "      <td>511</td>\n",
       "      <td>20</td>\n",
       "      <td>389</td>\n",
       "      <td>20</td>\n",
       "      <td>793</td>\n",
       "      <td>329</td>\n",
       "      <td>36</td>\n",
       "      <td>191</td>\n",
       "      <td>20</td>\n",
       "      <td>ALL</td>\n",
       "    </tr>\n",
       "    <tr>\n",
       "      <th>1</th>\n",
       "      <td>2</td>\n",
       "      <td>20</td>\n",
       "      <td>20</td>\n",
       "      <td>20</td>\n",
       "      <td>283</td>\n",
       "      <td>20</td>\n",
       "      <td>20</td>\n",
       "      <td>20</td>\n",
       "      <td>20</td>\n",
       "      <td>101</td>\n",
       "      <td>...</td>\n",
       "      <td>837</td>\n",
       "      <td>20</td>\n",
       "      <td>442</td>\n",
       "      <td>20</td>\n",
       "      <td>782</td>\n",
       "      <td>295</td>\n",
       "      <td>20</td>\n",
       "      <td>76</td>\n",
       "      <td>20</td>\n",
       "      <td>ALL</td>\n",
       "    </tr>\n",
       "    <tr>\n",
       "      <th>2</th>\n",
       "      <td>3</td>\n",
       "      <td>20</td>\n",
       "      <td>20</td>\n",
       "      <td>20</td>\n",
       "      <td>309</td>\n",
       "      <td>20</td>\n",
       "      <td>20</td>\n",
       "      <td>33</td>\n",
       "      <td>20</td>\n",
       "      <td>206</td>\n",
       "      <td>...</td>\n",
       "      <td>1199</td>\n",
       "      <td>33</td>\n",
       "      <td>168</td>\n",
       "      <td>52</td>\n",
       "      <td>1138</td>\n",
       "      <td>777</td>\n",
       "      <td>41</td>\n",
       "      <td>228</td>\n",
       "      <td>20</td>\n",
       "      <td>ALL</td>\n",
       "    </tr>\n",
       "    <tr>\n",
       "      <th>3</th>\n",
       "      <td>4</td>\n",
       "      <td>20</td>\n",
       "      <td>20</td>\n",
       "      <td>265</td>\n",
       "      <td>20</td>\n",
       "      <td>20</td>\n",
       "      <td>20</td>\n",
       "      <td>158</td>\n",
       "      <td>20</td>\n",
       "      <td>49</td>\n",
       "      <td>...</td>\n",
       "      <td>835</td>\n",
       "      <td>218</td>\n",
       "      <td>174</td>\n",
       "      <td>20</td>\n",
       "      <td>627</td>\n",
       "      <td>170</td>\n",
       "      <td>20</td>\n",
       "      <td>126</td>\n",
       "      <td>20</td>\n",
       "      <td>ALL</td>\n",
       "    </tr>\n",
       "    <tr>\n",
       "      <th>4</th>\n",
       "      <td>5</td>\n",
       "      <td>20</td>\n",
       "      <td>20</td>\n",
       "      <td>20</td>\n",
       "      <td>168</td>\n",
       "      <td>20</td>\n",
       "      <td>20</td>\n",
       "      <td>20</td>\n",
       "      <td>20</td>\n",
       "      <td>70</td>\n",
       "      <td>...</td>\n",
       "      <td>649</td>\n",
       "      <td>57</td>\n",
       "      <td>504</td>\n",
       "      <td>20</td>\n",
       "      <td>250</td>\n",
       "      <td>314</td>\n",
       "      <td>20</td>\n",
       "      <td>56</td>\n",
       "      <td>20</td>\n",
       "      <td>ALL</td>\n",
       "    </tr>\n",
       "  </tbody>\n",
       "</table>\n",
       "<p>5 rows × 7131 columns</p>\n",
       "</div>"
      ],
      "text/plain": [
       "   patient  AFFX-BioB-5_at  AFFX-BioB-M_at  AFFX-BioB-3_at  AFFX-BioC-5_at  \\\n",
       "0        1              20              20              20              88   \n",
       "1        2              20              20              20             283   \n",
       "2        3              20              20              20             309   \n",
       "3        4              20              20             265              20   \n",
       "4        5              20              20              20             168   \n",
       "\n",
       "   AFFX-BioC-3_at  AFFX-BioDn-5_at  AFFX-BioDn-3_at  AFFX-CreX-5_at  \\\n",
       "0              20               20              199              20   \n",
       "1              20               20               20              20   \n",
       "2              20               20               33              20   \n",
       "3              20               20              158              20   \n",
       "4              20               20               20              20   \n",
       "\n",
       "   AFFX-CreX-3_at  ...  U58516_at  U73738_at  X06956_at  X16699_at  X83863_at  \\\n",
       "0             252  ...        511         20        389         20        793   \n",
       "1             101  ...        837         20        442         20        782   \n",
       "2             206  ...       1199         33        168         52       1138   \n",
       "3              49  ...        835        218        174         20        627   \n",
       "4              70  ...        649         57        504         20        250   \n",
       "\n",
       "   Z17240_at  L49218_f_at  M71243_f_at  Z78285_f_at  cancer  \n",
       "0        329           36          191           20     ALL  \n",
       "1        295           20           76           20     ALL  \n",
       "2        777           41          228           20     ALL  \n",
       "3        170           20          126           20     ALL  \n",
       "4        314           20           56           20     ALL  \n",
       "\n",
       "[5 rows x 7131 columns]"
      ]
     },
     "execution_count": 31,
     "metadata": {},
     "output_type": "execute_result"
    }
   ],
   "source": [
    "data.head()"
   ]
  },
  {
   "cell_type": "code",
   "execution_count": 32,
   "metadata": {},
   "outputs": [
    {
     "data": {
      "text/plain": [
       "patient            int64\n",
       "AFFX-BioB-5_at     int64\n",
       "AFFX-BioB-M_at     int64\n",
       "AFFX-BioB-3_at     int64\n",
       "AFFX-BioC-5_at     int64\n",
       "                   ...  \n",
       "Z17240_at          int64\n",
       "L49218_f_at        int64\n",
       "M71243_f_at        int64\n",
       "Z78285_f_at        int64\n",
       "cancer            object\n",
       "Length: 7131, dtype: object"
      ]
     },
     "execution_count": 32,
     "metadata": {},
     "output_type": "execute_result"
    }
   ],
   "source": [
    "data.dtypes"
   ]
  },
  {
   "cell_type": "code",
   "execution_count": 33,
   "metadata": {},
   "outputs": [],
   "source": [
    "data.set_index('patient', inplace=True)"
   ]
  },
  {
   "cell_type": "code",
   "execution_count": 34,
   "metadata": {},
   "outputs": [
    {
     "data": {
      "text/html": [
       "<div>\n",
       "<style scoped>\n",
       "    .dataframe tbody tr th:only-of-type {\n",
       "        vertical-align: middle;\n",
       "    }\n",
       "\n",
       "    .dataframe tbody tr th {\n",
       "        vertical-align: top;\n",
       "    }\n",
       "\n",
       "    .dataframe thead th {\n",
       "        text-align: right;\n",
       "    }\n",
       "</style>\n",
       "<table border=\"1\" class=\"dataframe\">\n",
       "  <thead>\n",
       "    <tr style=\"text-align: right;\">\n",
       "      <th></th>\n",
       "      <th>AFFX-BioB-5_at</th>\n",
       "      <th>AFFX-BioB-M_at</th>\n",
       "      <th>AFFX-BioB-3_at</th>\n",
       "      <th>AFFX-BioC-5_at</th>\n",
       "      <th>AFFX-BioC-3_at</th>\n",
       "      <th>AFFX-BioDn-5_at</th>\n",
       "      <th>AFFX-BioDn-3_at</th>\n",
       "      <th>AFFX-CreX-5_at</th>\n",
       "      <th>AFFX-CreX-3_at</th>\n",
       "      <th>AFFX-BioB-5_st</th>\n",
       "      <th>...</th>\n",
       "      <th>U58516_at</th>\n",
       "      <th>U73738_at</th>\n",
       "      <th>X06956_at</th>\n",
       "      <th>X16699_at</th>\n",
       "      <th>X83863_at</th>\n",
       "      <th>Z17240_at</th>\n",
       "      <th>L49218_f_at</th>\n",
       "      <th>M71243_f_at</th>\n",
       "      <th>Z78285_f_at</th>\n",
       "      <th>cancer</th>\n",
       "    </tr>\n",
       "    <tr>\n",
       "      <th>patient</th>\n",
       "      <th></th>\n",
       "      <th></th>\n",
       "      <th></th>\n",
       "      <th></th>\n",
       "      <th></th>\n",
       "      <th></th>\n",
       "      <th></th>\n",
       "      <th></th>\n",
       "      <th></th>\n",
       "      <th></th>\n",
       "      <th></th>\n",
       "      <th></th>\n",
       "      <th></th>\n",
       "      <th></th>\n",
       "      <th></th>\n",
       "      <th></th>\n",
       "      <th></th>\n",
       "      <th></th>\n",
       "      <th></th>\n",
       "      <th></th>\n",
       "      <th></th>\n",
       "    </tr>\n",
       "  </thead>\n",
       "  <tbody>\n",
       "    <tr>\n",
       "      <th>1</th>\n",
       "      <td>20</td>\n",
       "      <td>20</td>\n",
       "      <td>20</td>\n",
       "      <td>88</td>\n",
       "      <td>20</td>\n",
       "      <td>20</td>\n",
       "      <td>199</td>\n",
       "      <td>20</td>\n",
       "      <td>252</td>\n",
       "      <td>206</td>\n",
       "      <td>...</td>\n",
       "      <td>511</td>\n",
       "      <td>20</td>\n",
       "      <td>389</td>\n",
       "      <td>20</td>\n",
       "      <td>793</td>\n",
       "      <td>329</td>\n",
       "      <td>36</td>\n",
       "      <td>191</td>\n",
       "      <td>20</td>\n",
       "      <td>ALL</td>\n",
       "    </tr>\n",
       "    <tr>\n",
       "      <th>2</th>\n",
       "      <td>20</td>\n",
       "      <td>20</td>\n",
       "      <td>20</td>\n",
       "      <td>283</td>\n",
       "      <td>20</td>\n",
       "      <td>20</td>\n",
       "      <td>20</td>\n",
       "      <td>20</td>\n",
       "      <td>101</td>\n",
       "      <td>74</td>\n",
       "      <td>...</td>\n",
       "      <td>837</td>\n",
       "      <td>20</td>\n",
       "      <td>442</td>\n",
       "      <td>20</td>\n",
       "      <td>782</td>\n",
       "      <td>295</td>\n",
       "      <td>20</td>\n",
       "      <td>76</td>\n",
       "      <td>20</td>\n",
       "      <td>ALL</td>\n",
       "    </tr>\n",
       "    <tr>\n",
       "      <th>3</th>\n",
       "      <td>20</td>\n",
       "      <td>20</td>\n",
       "      <td>20</td>\n",
       "      <td>309</td>\n",
       "      <td>20</td>\n",
       "      <td>20</td>\n",
       "      <td>33</td>\n",
       "      <td>20</td>\n",
       "      <td>206</td>\n",
       "      <td>20</td>\n",
       "      <td>...</td>\n",
       "      <td>1199</td>\n",
       "      <td>33</td>\n",
       "      <td>168</td>\n",
       "      <td>52</td>\n",
       "      <td>1138</td>\n",
       "      <td>777</td>\n",
       "      <td>41</td>\n",
       "      <td>228</td>\n",
       "      <td>20</td>\n",
       "      <td>ALL</td>\n",
       "    </tr>\n",
       "    <tr>\n",
       "      <th>4</th>\n",
       "      <td>20</td>\n",
       "      <td>20</td>\n",
       "      <td>265</td>\n",
       "      <td>20</td>\n",
       "      <td>20</td>\n",
       "      <td>20</td>\n",
       "      <td>158</td>\n",
       "      <td>20</td>\n",
       "      <td>49</td>\n",
       "      <td>31</td>\n",
       "      <td>...</td>\n",
       "      <td>835</td>\n",
       "      <td>218</td>\n",
       "      <td>174</td>\n",
       "      <td>20</td>\n",
       "      <td>627</td>\n",
       "      <td>170</td>\n",
       "      <td>20</td>\n",
       "      <td>126</td>\n",
       "      <td>20</td>\n",
       "      <td>ALL</td>\n",
       "    </tr>\n",
       "    <tr>\n",
       "      <th>5</th>\n",
       "      <td>20</td>\n",
       "      <td>20</td>\n",
       "      <td>20</td>\n",
       "      <td>168</td>\n",
       "      <td>20</td>\n",
       "      <td>20</td>\n",
       "      <td>20</td>\n",
       "      <td>20</td>\n",
       "      <td>70</td>\n",
       "      <td>252</td>\n",
       "      <td>...</td>\n",
       "      <td>649</td>\n",
       "      <td>57</td>\n",
       "      <td>504</td>\n",
       "      <td>20</td>\n",
       "      <td>250</td>\n",
       "      <td>314</td>\n",
       "      <td>20</td>\n",
       "      <td>56</td>\n",
       "      <td>20</td>\n",
       "      <td>ALL</td>\n",
       "    </tr>\n",
       "  </tbody>\n",
       "</table>\n",
       "<p>5 rows × 7130 columns</p>\n",
       "</div>"
      ],
      "text/plain": [
       "         AFFX-BioB-5_at  AFFX-BioB-M_at  AFFX-BioB-3_at  AFFX-BioC-5_at  \\\n",
       "patient                                                                   \n",
       "1                    20              20              20              88   \n",
       "2                    20              20              20             283   \n",
       "3                    20              20              20             309   \n",
       "4                    20              20             265              20   \n",
       "5                    20              20              20             168   \n",
       "\n",
       "         AFFX-BioC-3_at  AFFX-BioDn-5_at  AFFX-BioDn-3_at  AFFX-CreX-5_at  \\\n",
       "patient                                                                     \n",
       "1                    20               20              199              20   \n",
       "2                    20               20               20              20   \n",
       "3                    20               20               33              20   \n",
       "4                    20               20              158              20   \n",
       "5                    20               20               20              20   \n",
       "\n",
       "         AFFX-CreX-3_at  AFFX-BioB-5_st  ...  U58516_at  U73738_at  X06956_at  \\\n",
       "patient                                  ...                                    \n",
       "1                   252             206  ...        511         20        389   \n",
       "2                   101              74  ...        837         20        442   \n",
       "3                   206              20  ...       1199         33        168   \n",
       "4                    49              31  ...        835        218        174   \n",
       "5                    70             252  ...        649         57        504   \n",
       "\n",
       "         X16699_at  X83863_at  Z17240_at  L49218_f_at  M71243_f_at  \\\n",
       "patient                                                              \n",
       "1               20        793        329           36          191   \n",
       "2               20        782        295           20           76   \n",
       "3               52       1138        777           41          228   \n",
       "4               20        627        170           20          126   \n",
       "5               20        250        314           20           56   \n",
       "\n",
       "         Z78285_f_at  cancer  \n",
       "patient                       \n",
       "1                 20     ALL  \n",
       "2                 20     ALL  \n",
       "3                 20     ALL  \n",
       "4                 20     ALL  \n",
       "5                 20     ALL  \n",
       "\n",
       "[5 rows x 7130 columns]"
      ]
     },
     "execution_count": 34,
     "metadata": {},
     "output_type": "execute_result"
    }
   ],
   "source": [
    "data.head()"
   ]
  },
  {
   "cell_type": "code",
   "execution_count": 35,
   "metadata": {},
   "outputs": [],
   "source": [
    "nunique = data.apply(pd.Series.nunique)"
   ]
  },
  {
   "cell_type": "code",
   "execution_count": 36,
   "metadata": {},
   "outputs": [],
   "source": [
    "drop_cols = nunique[nunique == 1].index"
   ]
  },
  {
   "cell_type": "code",
   "execution_count": 37,
   "metadata": {},
   "outputs": [],
   "source": [
    "data.drop(columns=drop_cols, inplace=True)"
   ]
  },
  {
   "cell_type": "code",
   "execution_count": 38,
   "metadata": {},
   "outputs": [
    {
     "data": {
      "text/html": [
       "<div>\n",
       "<style scoped>\n",
       "    .dataframe tbody tr th:only-of-type {\n",
       "        vertical-align: middle;\n",
       "    }\n",
       "\n",
       "    .dataframe tbody tr th {\n",
       "        vertical-align: top;\n",
       "    }\n",
       "\n",
       "    .dataframe thead th {\n",
       "        text-align: right;\n",
       "    }\n",
       "</style>\n",
       "<table border=\"1\" class=\"dataframe\">\n",
       "  <thead>\n",
       "    <tr style=\"text-align: right;\">\n",
       "      <th></th>\n",
       "      <th>AFFX-BioB-5_at</th>\n",
       "      <th>AFFX-BioB-3_at</th>\n",
       "      <th>AFFX-BioC-5_at</th>\n",
       "      <th>AFFX-BioC-3_at</th>\n",
       "      <th>AFFX-BioDn-3_at</th>\n",
       "      <th>AFFX-CreX-3_at</th>\n",
       "      <th>AFFX-BioB-5_st</th>\n",
       "      <th>AFFX-BioB-M_st</th>\n",
       "      <th>AFFX-BioC-3_st</th>\n",
       "      <th>AFFX-BioDn-5_st</th>\n",
       "      <th>...</th>\n",
       "      <th>U58516_at</th>\n",
       "      <th>U73738_at</th>\n",
       "      <th>X06956_at</th>\n",
       "      <th>X16699_at</th>\n",
       "      <th>X83863_at</th>\n",
       "      <th>Z17240_at</th>\n",
       "      <th>L49218_f_at</th>\n",
       "      <th>M71243_f_at</th>\n",
       "      <th>Z78285_f_at</th>\n",
       "      <th>cancer</th>\n",
       "    </tr>\n",
       "    <tr>\n",
       "      <th>patient</th>\n",
       "      <th></th>\n",
       "      <th></th>\n",
       "      <th></th>\n",
       "      <th></th>\n",
       "      <th></th>\n",
       "      <th></th>\n",
       "      <th></th>\n",
       "      <th></th>\n",
       "      <th></th>\n",
       "      <th></th>\n",
       "      <th></th>\n",
       "      <th></th>\n",
       "      <th></th>\n",
       "      <th></th>\n",
       "      <th></th>\n",
       "      <th></th>\n",
       "      <th></th>\n",
       "      <th></th>\n",
       "      <th></th>\n",
       "      <th></th>\n",
       "      <th></th>\n",
       "    </tr>\n",
       "  </thead>\n",
       "  <tbody>\n",
       "    <tr>\n",
       "      <th>1</th>\n",
       "      <td>20</td>\n",
       "      <td>20</td>\n",
       "      <td>88</td>\n",
       "      <td>20</td>\n",
       "      <td>199</td>\n",
       "      <td>252</td>\n",
       "      <td>206</td>\n",
       "      <td>20</td>\n",
       "      <td>20</td>\n",
       "      <td>75</td>\n",
       "      <td>...</td>\n",
       "      <td>511</td>\n",
       "      <td>20</td>\n",
       "      <td>389</td>\n",
       "      <td>20</td>\n",
       "      <td>793</td>\n",
       "      <td>329</td>\n",
       "      <td>36</td>\n",
       "      <td>191</td>\n",
       "      <td>20</td>\n",
       "      <td>ALL</td>\n",
       "    </tr>\n",
       "    <tr>\n",
       "      <th>2</th>\n",
       "      <td>20</td>\n",
       "      <td>20</td>\n",
       "      <td>283</td>\n",
       "      <td>20</td>\n",
       "      <td>20</td>\n",
       "      <td>101</td>\n",
       "      <td>74</td>\n",
       "      <td>20</td>\n",
       "      <td>20</td>\n",
       "      <td>182</td>\n",
       "      <td>...</td>\n",
       "      <td>837</td>\n",
       "      <td>20</td>\n",
       "      <td>442</td>\n",
       "      <td>20</td>\n",
       "      <td>782</td>\n",
       "      <td>295</td>\n",
       "      <td>20</td>\n",
       "      <td>76</td>\n",
       "      <td>20</td>\n",
       "      <td>ALL</td>\n",
       "    </tr>\n",
       "    <tr>\n",
       "      <th>3</th>\n",
       "      <td>20</td>\n",
       "      <td>20</td>\n",
       "      <td>309</td>\n",
       "      <td>20</td>\n",
       "      <td>33</td>\n",
       "      <td>206</td>\n",
       "      <td>20</td>\n",
       "      <td>20</td>\n",
       "      <td>20</td>\n",
       "      <td>208</td>\n",
       "      <td>...</td>\n",
       "      <td>1199</td>\n",
       "      <td>33</td>\n",
       "      <td>168</td>\n",
       "      <td>52</td>\n",
       "      <td>1138</td>\n",
       "      <td>777</td>\n",
       "      <td>41</td>\n",
       "      <td>228</td>\n",
       "      <td>20</td>\n",
       "      <td>ALL</td>\n",
       "    </tr>\n",
       "    <tr>\n",
       "      <th>4</th>\n",
       "      <td>20</td>\n",
       "      <td>265</td>\n",
       "      <td>20</td>\n",
       "      <td>20</td>\n",
       "      <td>158</td>\n",
       "      <td>49</td>\n",
       "      <td>31</td>\n",
       "      <td>363</td>\n",
       "      <td>20</td>\n",
       "      <td>142</td>\n",
       "      <td>...</td>\n",
       "      <td>835</td>\n",
       "      <td>218</td>\n",
       "      <td>174</td>\n",
       "      <td>20</td>\n",
       "      <td>627</td>\n",
       "      <td>170</td>\n",
       "      <td>20</td>\n",
       "      <td>126</td>\n",
       "      <td>20</td>\n",
       "      <td>ALL</td>\n",
       "    </tr>\n",
       "    <tr>\n",
       "      <th>5</th>\n",
       "      <td>20</td>\n",
       "      <td>20</td>\n",
       "      <td>168</td>\n",
       "      <td>20</td>\n",
       "      <td>20</td>\n",
       "      <td>70</td>\n",
       "      <td>252</td>\n",
       "      <td>155</td>\n",
       "      <td>20</td>\n",
       "      <td>32</td>\n",
       "      <td>...</td>\n",
       "      <td>649</td>\n",
       "      <td>57</td>\n",
       "      <td>504</td>\n",
       "      <td>20</td>\n",
       "      <td>250</td>\n",
       "      <td>314</td>\n",
       "      <td>20</td>\n",
       "      <td>56</td>\n",
       "      <td>20</td>\n",
       "      <td>ALL</td>\n",
       "    </tr>\n",
       "  </tbody>\n",
       "</table>\n",
       "<p>5 rows × 6834 columns</p>\n",
       "</div>"
      ],
      "text/plain": [
       "         AFFX-BioB-5_at  AFFX-BioB-3_at  AFFX-BioC-5_at  AFFX-BioC-3_at  \\\n",
       "patient                                                                   \n",
       "1                    20              20              88              20   \n",
       "2                    20              20             283              20   \n",
       "3                    20              20             309              20   \n",
       "4                    20             265              20              20   \n",
       "5                    20              20             168              20   \n",
       "\n",
       "         AFFX-BioDn-3_at  AFFX-CreX-3_at  AFFX-BioB-5_st  AFFX-BioB-M_st  \\\n",
       "patient                                                                    \n",
       "1                    199             252             206              20   \n",
       "2                     20             101              74              20   \n",
       "3                     33             206              20              20   \n",
       "4                    158              49              31             363   \n",
       "5                     20              70             252             155   \n",
       "\n",
       "         AFFX-BioC-3_st  AFFX-BioDn-5_st  ...  U58516_at  U73738_at  \\\n",
       "patient                                   ...                         \n",
       "1                    20               75  ...        511         20   \n",
       "2                    20              182  ...        837         20   \n",
       "3                    20              208  ...       1199         33   \n",
       "4                    20              142  ...        835        218   \n",
       "5                    20               32  ...        649         57   \n",
       "\n",
       "         X06956_at  X16699_at  X83863_at  Z17240_at  L49218_f_at  M71243_f_at  \\\n",
       "patient                                                                         \n",
       "1              389         20        793        329           36          191   \n",
       "2              442         20        782        295           20           76   \n",
       "3              168         52       1138        777           41          228   \n",
       "4              174         20        627        170           20          126   \n",
       "5              504         20        250        314           20           56   \n",
       "\n",
       "         Z78285_f_at  cancer  \n",
       "patient                       \n",
       "1                 20     ALL  \n",
       "2                 20     ALL  \n",
       "3                 20     ALL  \n",
       "4                 20     ALL  \n",
       "5                 20     ALL  \n",
       "\n",
       "[5 rows x 6834 columns]"
      ]
     },
     "execution_count": 38,
     "metadata": {},
     "output_type": "execute_result"
    }
   ],
   "source": [
    "data.head()"
   ]
  },
  {
   "cell_type": "code",
   "execution_count": 39,
   "metadata": {},
   "outputs": [
    {
     "data": {
      "text/plain": [
       "(72, 6834)"
      ]
     },
     "execution_count": 39,
     "metadata": {},
     "output_type": "execute_result"
    }
   ],
   "source": [
    "data.shape"
   ]
  },
  {
   "cell_type": "code",
   "execution_count": 40,
   "metadata": {},
   "outputs": [
    {
     "data": {
      "text/plain": [
       "0"
      ]
     },
     "execution_count": 40,
     "metadata": {},
     "output_type": "execute_result"
    }
   ],
   "source": [
    "data.isnull().sum().sum()"
   ]
  },
  {
   "cell_type": "code",
   "execution_count": 41,
   "metadata": {},
   "outputs": [
    {
     "data": {
      "text/plain": [
       "ALL    47\n",
       "AML    25\n",
       "Name: cancer, dtype: int64"
      ]
     },
     "execution_count": 41,
     "metadata": {},
     "output_type": "execute_result"
    }
   ],
   "source": [
    "data.cancer.value_counts()"
   ]
  },
  {
   "cell_type": "code",
   "execution_count": 42,
   "metadata": {},
   "outputs": [
    {
     "data": {
      "text/plain": [
       "<matplotlib.axes._subplots.AxesSubplot at 0x122a5290>"
      ]
     },
     "execution_count": 42,
     "metadata": {},
     "output_type": "execute_result"
    },
    {
     "data": {
      "image/png": "[encoded data removed]",
      "text/plain": [
       "<Figure size 432x288 with 1 Axes>"
      ]
     },
     "metadata": {
      "needs_background": "light"
     },
     "output_type": "display_data"
    }
   ],
   "source": [
    "sns.distplot(data.drop(columns='cancer').stack())"
   ]
  },
  {
   "cell_type": "code",
   "execution_count": 43,
   "metadata": {},
   "outputs": [
    {
     "data": {
      "text/plain": [
       "71369"
      ]
     },
     "execution_count": 43,
     "metadata": {},
     "output_type": "execute_result"
    }
   ],
   "source": [
    "data.drop(columns='cancer').stack().max()"
   ]
  },
  {
   "cell_type": "code",
   "execution_count": 44,
   "metadata": {},
   "outputs": [
    {
     "data": {
      "text/plain": [
       "20"
      ]
     },
     "execution_count": 44,
     "metadata": {},
     "output_type": "execute_result"
    }
   ],
   "source": [
    "data.drop(columns='cancer').stack().min()"
   ]
  },
  {
   "cell_type": "code",
   "execution_count": 45,
   "metadata": {},
   "outputs": [],
   "source": [
    "#we will log transform the data before going on"
   ]
  },
  {
   "cell_type": "code",
   "execution_count": 46,
   "metadata": {},
   "outputs": [],
   "source": [
    "log_data = data.drop(columns='cancer').apply(np.log2)"
   ]
  },
  {
   "cell_type": "code",
   "execution_count": 47,
   "metadata": {},
   "outputs": [],
   "source": [
    "log_data['cancer'] = data.cancer"
   ]
  },
  {
   "cell_type": "code",
   "execution_count": 48,
   "metadata": {},
   "outputs": [
    {
     "data": {
      "text/html": [
       "<div>\n",
       "<style scoped>\n",
       "    .dataframe tbody tr th:only-of-type {\n",
       "        vertical-align: middle;\n",
       "    }\n",
       "\n",
       "    .dataframe tbody tr th {\n",
       "        vertical-align: top;\n",
       "    }\n",
       "\n",
       "    .dataframe thead th {\n",
       "        text-align: right;\n",
       "    }\n",
       "</style>\n",
       "<table border=\"1\" class=\"dataframe\">\n",
       "  <thead>\n",
       "    <tr style=\"text-align: right;\">\n",
       "      <th></th>\n",
       "      <th>AFFX-BioB-5_at</th>\n",
       "      <th>AFFX-BioB-3_at</th>\n",
       "      <th>AFFX-BioC-5_at</th>\n",
       "      <th>AFFX-BioC-3_at</th>\n",
       "      <th>AFFX-BioDn-3_at</th>\n",
       "      <th>AFFX-CreX-3_at</th>\n",
       "      <th>AFFX-BioB-5_st</th>\n",
       "      <th>AFFX-BioB-M_st</th>\n",
       "      <th>AFFX-BioC-3_st</th>\n",
       "      <th>AFFX-BioDn-5_st</th>\n",
       "      <th>...</th>\n",
       "      <th>U58516_at</th>\n",
       "      <th>U73738_at</th>\n",
       "      <th>X06956_at</th>\n",
       "      <th>X16699_at</th>\n",
       "      <th>X83863_at</th>\n",
       "      <th>Z17240_at</th>\n",
       "      <th>L49218_f_at</th>\n",
       "      <th>M71243_f_at</th>\n",
       "      <th>Z78285_f_at</th>\n",
       "      <th>cancer</th>\n",
       "    </tr>\n",
       "    <tr>\n",
       "      <th>patient</th>\n",
       "      <th></th>\n",
       "      <th></th>\n",
       "      <th></th>\n",
       "      <th></th>\n",
       "      <th></th>\n",
       "      <th></th>\n",
       "      <th></th>\n",
       "      <th></th>\n",
       "      <th></th>\n",
       "      <th></th>\n",
       "      <th></th>\n",
       "      <th></th>\n",
       "      <th></th>\n",
       "      <th></th>\n",
       "      <th></th>\n",
       "      <th></th>\n",
       "      <th></th>\n",
       "      <th></th>\n",
       "      <th></th>\n",
       "      <th></th>\n",
       "      <th></th>\n",
       "    </tr>\n",
       "  </thead>\n",
       "  <tbody>\n",
       "    <tr>\n",
       "      <th>1</th>\n",
       "      <td>4.321928</td>\n",
       "      <td>4.321928</td>\n",
       "      <td>6.459432</td>\n",
       "      <td>4.321928</td>\n",
       "      <td>7.636625</td>\n",
       "      <td>7.977280</td>\n",
       "      <td>7.686501</td>\n",
       "      <td>4.321928</td>\n",
       "      <td>4.321928</td>\n",
       "      <td>6.228819</td>\n",
       "      <td>...</td>\n",
       "      <td>8.997179</td>\n",
       "      <td>4.321928</td>\n",
       "      <td>8.603626</td>\n",
       "      <td>4.321928</td>\n",
       "      <td>9.631177</td>\n",
       "      <td>8.361944</td>\n",
       "      <td>5.169925</td>\n",
       "      <td>7.577429</td>\n",
       "      <td>4.321928</td>\n",
       "      <td>ALL</td>\n",
       "    </tr>\n",
       "    <tr>\n",
       "      <th>2</th>\n",
       "      <td>4.321928</td>\n",
       "      <td>4.321928</td>\n",
       "      <td>8.144658</td>\n",
       "      <td>4.321928</td>\n",
       "      <td>4.321928</td>\n",
       "      <td>6.658211</td>\n",
       "      <td>6.209453</td>\n",
       "      <td>4.321928</td>\n",
       "      <td>4.321928</td>\n",
       "      <td>7.507795</td>\n",
       "      <td>...</td>\n",
       "      <td>9.709084</td>\n",
       "      <td>4.321928</td>\n",
       "      <td>8.787903</td>\n",
       "      <td>4.321928</td>\n",
       "      <td>9.611025</td>\n",
       "      <td>8.204571</td>\n",
       "      <td>4.321928</td>\n",
       "      <td>6.247928</td>\n",
       "      <td>4.321928</td>\n",
       "      <td>ALL</td>\n",
       "    </tr>\n",
       "    <tr>\n",
       "      <th>3</th>\n",
       "      <td>4.321928</td>\n",
       "      <td>4.321928</td>\n",
       "      <td>8.271463</td>\n",
       "      <td>4.321928</td>\n",
       "      <td>5.044394</td>\n",
       "      <td>7.686501</td>\n",
       "      <td>4.321928</td>\n",
       "      <td>4.321928</td>\n",
       "      <td>4.321928</td>\n",
       "      <td>7.700440</td>\n",
       "      <td>...</td>\n",
       "      <td>10.227616</td>\n",
       "      <td>5.044394</td>\n",
       "      <td>7.392317</td>\n",
       "      <td>5.700440</td>\n",
       "      <td>10.152285</td>\n",
       "      <td>9.601771</td>\n",
       "      <td>5.357552</td>\n",
       "      <td>7.832890</td>\n",
       "      <td>4.321928</td>\n",
       "      <td>ALL</td>\n",
       "    </tr>\n",
       "    <tr>\n",
       "      <th>4</th>\n",
       "      <td>4.321928</td>\n",
       "      <td>8.049849</td>\n",
       "      <td>4.321928</td>\n",
       "      <td>4.321928</td>\n",
       "      <td>7.303781</td>\n",
       "      <td>5.614710</td>\n",
       "      <td>4.954196</td>\n",
       "      <td>8.503826</td>\n",
       "      <td>4.321928</td>\n",
       "      <td>7.149747</td>\n",
       "      <td>...</td>\n",
       "      <td>9.705632</td>\n",
       "      <td>7.768184</td>\n",
       "      <td>7.442943</td>\n",
       "      <td>4.321928</td>\n",
       "      <td>9.292322</td>\n",
       "      <td>7.409391</td>\n",
       "      <td>4.321928</td>\n",
       "      <td>6.977280</td>\n",
       "      <td>4.321928</td>\n",
       "      <td>ALL</td>\n",
       "    </tr>\n",
       "    <tr>\n",
       "      <th>5</th>\n",
       "      <td>4.321928</td>\n",
       "      <td>4.321928</td>\n",
       "      <td>7.392317</td>\n",
       "      <td>4.321928</td>\n",
       "      <td>4.321928</td>\n",
       "      <td>6.129283</td>\n",
       "      <td>7.977280</td>\n",
       "      <td>7.276124</td>\n",
       "      <td>4.321928</td>\n",
       "      <td>5.000000</td>\n",
       "      <td>...</td>\n",
       "      <td>9.342075</td>\n",
       "      <td>5.832890</td>\n",
       "      <td>8.977280</td>\n",
       "      <td>4.321928</td>\n",
       "      <td>7.965784</td>\n",
       "      <td>8.294621</td>\n",
       "      <td>4.321928</td>\n",
       "      <td>5.807355</td>\n",
       "      <td>4.321928</td>\n",
       "      <td>ALL</td>\n",
       "    </tr>\n",
       "  </tbody>\n",
       "</table>\n",
       "<p>5 rows × 6834 columns</p>\n",
       "</div>"
      ],
      "text/plain": [
       "         AFFX-BioB-5_at  AFFX-BioB-3_at  AFFX-BioC-5_at  AFFX-BioC-3_at  \\\n",
       "patient                                                                   \n",
       "1              4.321928        4.321928        6.459432        4.321928   \n",
       "2              4.321928        4.321928        8.144658        4.321928   \n",
       "3              4.321928        4.321928        8.271463        4.321928   \n",
       "4              4.321928        8.049849        4.321928        4.321928   \n",
       "5              4.321928        4.321928        7.392317        4.321928   \n",
       "\n",
       "         AFFX-BioDn-3_at  AFFX-CreX-3_at  AFFX-BioB-5_st  AFFX-BioB-M_st  \\\n",
       "patient                                                                    \n",
       "1               7.636625        7.977280        7.686501        4.321928   \n",
       "2               4.321928        6.658211        6.209453        4.321928   \n",
       "3               5.044394        7.686501        4.321928        4.321928   \n",
       "4               7.303781        5.614710        4.954196        8.503826   \n",
       "5               4.321928        6.129283        7.977280        7.276124   \n",
       "\n",
       "         AFFX-BioC-3_st  AFFX-BioDn-5_st  ...  U58516_at  U73738_at  \\\n",
       "patient                                   ...                         \n",
       "1              4.321928         6.228819  ...   8.997179   4.321928   \n",
       "2              4.321928         7.507795  ...   9.709084   4.321928   \n",
       "3              4.321928         7.700440  ...  10.227616   5.044394   \n",
       "4              4.321928         7.149747  ...   9.705632   7.768184   \n",
       "5              4.321928         5.000000  ...   9.342075   5.832890   \n",
       "\n",
       "         X06956_at  X16699_at  X83863_at  Z17240_at  L49218_f_at  M71243_f_at  \\\n",
       "patient                                                                         \n",
       "1         8.603626   4.321928   9.631177   8.361944     5.169925     7.577429   \n",
       "2         8.787903   4.321928   9.611025   8.204571     4.321928     6.247928   \n",
       "3         7.392317   5.700440  10.152285   9.601771     5.357552     7.832890   \n",
       "4         7.442943   4.321928   9.292322   7.409391     4.321928     6.977280   \n",
       "5         8.977280   4.321928   7.965784   8.294621     4.321928     5.807355   \n",
       "\n",
       "         Z78285_f_at  cancer  \n",
       "patient                       \n",
       "1           4.321928     ALL  \n",
       "2           4.321928     ALL  \n",
       "3           4.321928     ALL  \n",
       "4           4.321928     ALL  \n",
       "5           4.321928     ALL  \n",
       "\n",
       "[5 rows x 6834 columns]"
      ]
     },
     "execution_count": 48,
     "metadata": {},
     "output_type": "execute_result"
    }
   ],
   "source": [
    "log_data.head()"
   ]
  },
  {
   "cell_type": "code",
   "execution_count": 49,
   "metadata": {},
   "outputs": [
    {
     "data": {
      "text/plain": [
       "<matplotlib.axes._subplots.AxesSubplot at 0x13c4f610>"
      ]
     },
     "execution_count": 49,
     "metadata": {},
     "output_type": "execute_result"
    },
    {
     "data": {
      "image/png": "[encoded data removed]",
      "text/plain": [
       "<Figure size 432x288 with 1 Axes>"
      ]
     },
     "metadata": {
      "needs_background": "light"
     },
     "output_type": "display_data"
    }
   ],
   "source": [
    "sns.distplot(log_data.drop(columns='cancer').stack())"
   ]
  },
  {
   "cell_type": "code",
   "execution_count": 50,
   "metadata": {},
   "outputs": [
    {
     "data": {
      "text/plain": [
       "16.12300993758573"
      ]
     },
     "execution_count": 50,
     "metadata": {},
     "output_type": "execute_result"
    }
   ],
   "source": [
    "log_data.drop(columns='cancer').stack().max()"
   ]
  },
  {
   "cell_type": "code",
   "execution_count": 51,
   "metadata": {},
   "outputs": [
    {
     "data": {
      "text/plain": [
       "4.321928094887363"
      ]
     },
     "execution_count": 51,
     "metadata": {},
     "output_type": "execute_result"
    }
   ],
   "source": [
    "log_data.drop(columns='cancer').stack().min()"
   ]
  },
  {
   "cell_type": "code",
   "execution_count": 52,
   "metadata": {},
   "outputs": [],
   "source": [
    "# lets look at a clustermap and PCA"
   ]
  },
  {
   "cell_type": "code",
   "execution_count": 53,
   "metadata": {},
   "outputs": [],
   "source": [
    "#make color mapping for cancer types. this will visualize the cancer groups in the clustermap."
   ]
  },
  {
   "cell_type": "code",
   "execution_count": 54,
   "metadata": {},
   "outputs": [],
   "source": [
    "color_map = dict(zip(set(data.cancer), sns.mpl_palette(\"Set2\", len(set(data.cancer)))))"
   ]
  },
  {
   "cell_type": "code",
   "execution_count": 55,
   "metadata": {},
   "outputs": [
    {
     "data": {
      "text/plain": [
       "[(0.4, 0.7607843137254902, 0.6470588235294118),\n",
       " (0.9882352941176471, 0.5529411764705883, 0.3843137254901961),\n",
       " (0.5529411764705883, 0.6274509803921569, 0.796078431372549),\n",
       " (0.9058823529411765, 0.5411764705882353, 0.7647058823529411),\n",
       " (0.6509803921568628, 0.8470588235294118, 0.32941176470588235),\n",
       " (1.0, 0.8509803921568627, 0.1843137254901961)]"
      ]
     },
     "execution_count": 55,
     "metadata": {},
     "output_type": "execute_result"
    }
   ],
   "source": [
    "sns.mpl_palette(\"Set2\")"
   ]
  },
  {
   "cell_type": "code",
   "execution_count": 56,
   "metadata": {},
   "outputs": [],
   "source": [
    "row_cols = data.cancer.map(color_map)"
   ]
  },
  {
   "cell_type": "code",
   "execution_count": 57,
   "metadata": {},
   "outputs": [
    {
     "data": {
      "image/png": "[encoded data removed]",
      "text/plain": [
       "<Figure size 720x720 with 5 Axes>"
      ]
     },
     "metadata": {
      "needs_background": "light"
     },
     "output_type": "display_data"
    }
   ],
   "source": [
    "ax = sns.clustermap(log_data.drop(columns='cancer').T, metric='correlation', cmap='bwr',z_score=0, col_colors=row_cols)\n"
   ]
  },
  {
   "cell_type": "code",
   "execution_count": 58,
   "metadata": {},
   "outputs": [],
   "source": [
    "from matplotlib.patches import Patch\n",
    "from matplotlib.lines import Line2D"
   ]
  },
  {
   "cell_type": "code",
   "execution_count": 59,
   "metadata": {},
   "outputs": [],
   "source": [
    "legend_bars = [Patch(facecolor=(0.4, 0.7607843137254902, 0.6470588235294118),label='ALL'),\n",
    "               Patch(facecolor=(0.9882352941176471, 0.5529411764705883, 0.3843137254901961),label='AML')]"
   ]
  },
  {
   "cell_type": "code",
   "execution_count": 60,
   "metadata": {},
   "outputs": [
    {
     "data": {
      "image/png": "[encoded data removed]",
      "text/plain": [
       "<Figure size 144x90 with 1 Axes>"
      ]
     },
     "metadata": {},
     "output_type": "display_data"
    }
   ],
   "source": [
    "with sns.axes_style('white'):\n",
    "    fig, ax = plt.subplots(figsize=(2,1.25))\n",
    "    fig.legend(handles=legend_bars,loc='center',frameon=False)\n",
    "    ax.set_xticklabels('')\n",
    "    ax.set_yticklabels('')\n",
    "    #fig.savefig('C:/Users/natea/figures/legendbars.png', dpi=300)"
   ]
  },
  {
   "cell_type": "code",
   "execution_count": 61,
   "metadata": {},
   "outputs": [],
   "source": [
    "# now look at grouping by PCA. I'll just look at first 3 pc's."
   ]
  },
  {
   "cell_type": "code",
   "execution_count": 62,
   "metadata": {},
   "outputs": [],
   "source": [
    "from mpl_toolkits.mplot3d import Axes3D\n",
    "from sklearn.decomposition import PCA"
   ]
  },
  {
   "cell_type": "code",
   "execution_count": 63,
   "metadata": {},
   "outputs": [],
   "source": [
    "pca = PCA(3)"
   ]
  },
  {
   "cell_type": "code",
   "execution_count": 64,
   "metadata": {},
   "outputs": [],
   "source": [
    "pca_data = log_data.drop('cancer',axis=1)"
   ]
  },
  {
   "cell_type": "code",
   "execution_count": 65,
   "metadata": {},
   "outputs": [],
   "source": [
    "y = data.cancer"
   ]
  },
  {
   "cell_type": "code",
   "execution_count": 66,
   "metadata": {},
   "outputs": [],
   "source": [
    "X = pca.fit_transform(pca_data)"
   ]
  },
  {
   "cell_type": "code",
   "execution_count": 67,
   "metadata": {},
   "outputs": [
    {
     "data": {
      "text/plain": [
       "(72, 3)"
      ]
     },
     "execution_count": 67,
     "metadata": {},
     "output_type": "execute_result"
    }
   ],
   "source": [
    "X.shape"
   ]
  },
  {
   "cell_type": "code",
   "execution_count": 68,
   "metadata": {},
   "outputs": [
    {
     "data": {
      "text/plain": [
       "(72,)"
      ]
     },
     "execution_count": 68,
     "metadata": {},
     "output_type": "execute_result"
    }
   ],
   "source": [
    "y.shape"
   ]
  },
  {
   "cell_type": "code",
   "execution_count": 69,
   "metadata": {},
   "outputs": [
    {
     "data": {
      "image/png": "[encoded data removed]",
      "text/plain": [
       "<Figure size 576x432 with 1 Axes>"
      ]
     },
     "metadata": {
      "needs_background": "light"
     },
     "output_type": "display_data"
    }
   ],
   "source": [
    "fig, ax = plt.subplots(figsize=(8,6))\n",
    "ax = sns.scatterplot(x=X[:,0], y=X[:,1], hue=y,s=50,alpha=.8)\n",
    "ax.set(title='PCA 1 vs. 2');\n",
    "#plt.savefig('C:/Users/natea/figures/PCA1v2.png')"
   ]
  },
  {
   "cell_type": "code",
   "execution_count": 70,
   "metadata": {},
   "outputs": [],
   "source": [
    "cols = np.array(['blue' if i=='ALL' else 'orange' for i in data.cancer])"
   ]
  },
  {
   "cell_type": "code",
   "execution_count": 71,
   "metadata": {},
   "outputs": [
    {
     "data": {
      "image/png": "[encoded data removed]",
      "text/plain": [
       "<Figure size 432x288 with 1 Axes>"
      ]
     },
     "metadata": {
      "needs_background": "light"
     },
     "output_type": "display_data"
    }
   ],
   "source": [
    "ax = sns.scatterplot(X[:,0], X[:,2], hue=y)"
   ]
  },
  {
   "cell_type": "code",
   "execution_count": 72,
   "metadata": {},
   "outputs": [
    {
     "data": {
      "text/plain": [
       "[Text(0.5, 0.92, 'First 3 principal components')]"
      ]
     },
     "execution_count": 72,
     "metadata": {},
     "output_type": "execute_result"
    },
    {
     "data": {
      "image/png": "[encoded data removed]",
      "text/plain": [
       "<Figure size 576x432 with 2 Axes>"
      ]
     },
     "metadata": {
      "needs_background": "light"
     },
     "output_type": "display_data"
    }
   ],
   "source": [
    "fig, ax = plt.subplots(figsize=(8,6))\n",
    "ax = Axes3D(fig, rect=[0, 0, .95, 1])\n",
    "scatter = ax.scatter(X[:,0], X[:,1], X[:,2],c=cols,s=70, alpha=0.5)\n",
    "ax.set(title='First 3 principal components')\n",
    "#leg = ax.legend(*scatter.legend_elements(),title='Cancer')\n",
    "#ax.add_artist(leg)\n",
    "#plt.savefig('C:/Users/natea/figures/logdata_PCA3d.png')"
   ]
  },
  {
   "cell_type": "code",
   "execution_count": 73,
   "metadata": {},
   "outputs": [
    {
     "data": {
      "image/png": "[encoded data removed]",
      "text/plain": [
       "<Figure size 432x288 with 1 Axes>"
      ]
     },
     "metadata": {
      "needs_background": "light"
     },
     "output_type": "display_data"
    }
   ],
   "source": [
    "plt.bar([0,1,2],np.cumsum(pca.explained_variance_ratio_))\n",
    "plt.xticks([0,1,2])\n",
    "plt.xlabel('first 3 components of PCA')\n",
    "plt.ylabel('total explained variance')\n",
    "plt.title('Cumulative explained variance');"
   ]
  },
  {
   "cell_type": "code",
   "execution_count": 74,
   "metadata": {},
   "outputs": [],
   "source": [
    "from sklearn.manifold import TSNE"
   ]
  },
  {
   "cell_type": "code",
   "execution_count": 75,
   "metadata": {},
   "outputs": [],
   "source": [
    "X_embed = TSNE().fit_transform(log_data.drop('cancer',axis=1))"
   ]
  },
  {
   "cell_type": "code",
   "execution_count": 76,
   "metadata": {},
   "outputs": [
    {
     "data": {
      "text/plain": [
       "<matplotlib.axes._subplots.AxesSubplot at 0x16654dd0>"
      ]
     },
     "execution_count": 76,
     "metadata": {},
     "output_type": "execute_result"
    },
    {
     "data": {
      "image/png": "[encoded data removed]",
      "text/plain": [
       "<Figure size 432x288 with 1 Axes>"
      ]
     },
     "metadata": {
      "needs_background": "light"
     },
     "output_type": "display_data"
    }
   ],
   "source": [
    "sns.scatterplot(x=X_embed[:,0], y=X_embed[:,1], hue=y)"
   ]
  },
  {
   "cell_type": "code",
   "execution_count": 77,
   "metadata": {},
   "outputs": [],
   "source": [
    "import umap"
   ]
  },
  {
   "cell_type": "code",
   "execution_count": 78,
   "metadata": {},
   "outputs": [
    {
     "data": {
      "text/plain": [
       "'0.3.10'"
      ]
     },
     "execution_count": 78,
     "metadata": {},
     "output_type": "execute_result"
    }
   ],
   "source": [
    "umap.__version__"
   ]
  },
  {
   "cell_type": "code",
   "execution_count": 79,
   "metadata": {},
   "outputs": [],
   "source": [
    "reducer = umap.UMAP()"
   ]
  },
  {
   "cell_type": "code",
   "execution_count": 80,
   "metadata": {},
   "outputs": [],
   "source": [
    "umap_embed = reducer.fit_transform(log_data.drop('cancer',axis=1))"
   ]
  },
  {
   "cell_type": "code",
   "execution_count": 81,
   "metadata": {},
   "outputs": [
    {
     "data": {
      "image/png": "[encoded data removed]",
      "text/plain": [
       "<Figure size 576x432 with 1 Axes>"
      ]
     },
     "metadata": {
      "needs_background": "light"
     },
     "output_type": "display_data"
    }
   ],
   "source": [
    "fig, ax = plt.subplots(figsize=(8,6))\n",
    "ax = sns.scatterplot(x=umap_embed[:,0], y=umap_embed[:,1], hue=y, s=50, alpha=.8)\n",
    "plt.title(\"UMAP visualization\");\n",
    "plt.savefig('C:/Users/natea/figures/logdata_AML_UMAP.png')"
   ]
  },
  {
   "cell_type": "code",
   "execution_count": 82,
   "metadata": {},
   "outputs": [],
   "source": [
    "os.chdir('C:/Users/natea/PycharmProjects')\n",
    "from data_tools import Volcano"
   ]
  },
  {
   "cell_type": "code",
   "execution_count": 83,
   "metadata": {},
   "outputs": [
    {
     "data": {
      "text/plain": [
       "['ALL', 'AML']"
      ]
     },
     "execution_count": 83,
     "metadata": {},
     "output_type": "execute_result"
    }
   ],
   "source": [
    "Volcano.get_groups(data, 'cancer')"
   ]
  },
  {
   "cell_type": "code",
   "execution_count": 84,
   "metadata": {},
   "outputs": [],
   "source": [
    "aml = log_data[log_data.cancer == 'AML'].drop(columns='cancer')\n",
    "_all = log_data[log_data.cancer == 'ALL'].drop(columns='cancer')"
   ]
  },
  {
   "cell_type": "code",
   "execution_count": 85,
   "metadata": {},
   "outputs": [],
   "source": [
    "from scipy.stats import ttest_ind"
   ]
  },
  {
   "cell_type": "code",
   "execution_count": 86,
   "metadata": {},
   "outputs": [
    {
     "data": {
      "text/plain": [
       "AFFX-BioB-5_at     float64\n",
       "AFFX-BioB-3_at     float64\n",
       "AFFX-BioC-5_at     float64\n",
       "AFFX-BioC-3_at     float64\n",
       "AFFX-BioDn-3_at    float64\n",
       "                    ...   \n",
       "X83863_at          float64\n",
       "Z17240_at          float64\n",
       "L49218_f_at        float64\n",
       "M71243_f_at        float64\n",
       "Z78285_f_at        float64\n",
       "Length: 6833, dtype: object"
      ]
     },
     "execution_count": 86,
     "metadata": {},
     "output_type": "execute_result"
    }
   ],
   "source": [
    "aml.dtypes"
   ]
  },
  {
   "cell_type": "code",
   "execution_count": 87,
   "metadata": {},
   "outputs": [
    {
     "data": {
      "text/plain": [
       "array([0.4416289 , 0.73335428, 0.09861277, ..., 0.02198333, 0.00115974,\n",
       "       0.25358594])"
      ]
     },
     "execution_count": 87,
     "metadata": {},
     "output_type": "execute_result"
    }
   ],
   "source": [
    "ttest_ind(aml, _all)[1]"
   ]
  },
  {
   "cell_type": "code",
   "execution_count": 88,
   "metadata": {},
   "outputs": [],
   "source": [
    "probe_list = [col for col in log_data.columns if 'cancer' not in col]"
   ]
  },
  {
   "cell_type": "code",
   "execution_count": 89,
   "metadata": {},
   "outputs": [],
   "source": [
    "fold_change_dict = {}\n",
    "ttest_dict = {}\n",
    "group1 = _all\n",
    "group2 = aml"
   ]
  },
  {
   "cell_type": "code",
   "execution_count": 90,
   "metadata": {},
   "outputs": [],
   "source": [
    "for gene in probe_list:\n",
    "    baseline = group1[gene]\n",
    "    test = group2[gene]\n",
    "    fold_change_dict[gene] = test.mean() - baseline.mean()\n",
    "    p_val = ttest_ind(baseline, test)[1] \n",
    "    log_pval = -np.log10(p_val)\n",
    "    ttest_dict[gene] = log_pval\n",
    "    volcano_df = pd.DataFrame.from_dict(fold_change_dict, orient=\"Index\")\n",
    "    volcano_df.columns = ['fold_change']\n",
    "    #volcano_df['pval'] = np.fromiter(ttest_dict.values(),dtype=float)\n",
    "    #volcano_df['pval'] = volcano_df['gene'].map(ttest_dict)\n",
    "    #volcano_df.reset_index(inplace=True)"
   ]
  },
  {
   "cell_type": "code",
   "execution_count": 91,
   "metadata": {},
   "outputs": [],
   "source": [
    "volcano_df['pval'] = volcano_df.index.map(ttest_dict)"
   ]
  },
  {
   "cell_type": "code",
   "execution_count": 92,
   "metadata": {},
   "outputs": [
    {
     "data": {
      "text/html": [
       "<div>\n",
       "<style scoped>\n",
       "    .dataframe tbody tr th:only-of-type {\n",
       "        vertical-align: middle;\n",
       "    }\n",
       "\n",
       "    .dataframe tbody tr th {\n",
       "        vertical-align: top;\n",
       "    }\n",
       "\n",
       "    .dataframe thead th {\n",
       "        text-align: right;\n",
       "    }\n",
       "</style>\n",
       "<table border=\"1\" class=\"dataframe\">\n",
       "  <thead>\n",
       "    <tr style=\"text-align: right;\">\n",
       "      <th></th>\n",
       "      <th>fold_change</th>\n",
       "      <th>pval</th>\n",
       "    </tr>\n",
       "  </thead>\n",
       "  <tbody>\n",
       "    <tr>\n",
       "      <th>AFFX-BioB-5_at</th>\n",
       "      <td>-0.047699</td>\n",
       "      <td>0.354943</td>\n",
       "    </tr>\n",
       "    <tr>\n",
       "      <th>AFFX-BioB-3_at</th>\n",
       "      <td>-0.103257</td>\n",
       "      <td>0.134686</td>\n",
       "    </tr>\n",
       "    <tr>\n",
       "      <th>AFFX-BioC-5_at</th>\n",
       "      <td>0.502779</td>\n",
       "      <td>1.006067</td>\n",
       "    </tr>\n",
       "    <tr>\n",
       "      <th>AFFX-BioC-3_at</th>\n",
       "      <td>-0.053425</td>\n",
       "      <td>0.328168</td>\n",
       "    </tr>\n",
       "    <tr>\n",
       "      <th>AFFX-BioDn-3_at</th>\n",
       "      <td>-0.527472</td>\n",
       "      <td>0.712768</td>\n",
       "    </tr>\n",
       "  </tbody>\n",
       "</table>\n",
       "</div>"
      ],
      "text/plain": [
       "                 fold_change      pval\n",
       "AFFX-BioB-5_at     -0.047699  0.354943\n",
       "AFFX-BioB-3_at     -0.103257  0.134686\n",
       "AFFX-BioC-5_at      0.502779  1.006067\n",
       "AFFX-BioC-3_at     -0.053425  0.328168\n",
       "AFFX-BioDn-3_at    -0.527472  0.712768"
      ]
     },
     "execution_count": 92,
     "metadata": {},
     "output_type": "execute_result"
    }
   ],
   "source": [
    "volcano_df.head()"
   ]
  },
  {
   "cell_type": "code",
   "execution_count": 93,
   "metadata": {},
   "outputs": [
    {
     "data": {
      "text/plain": [
       "6.56108913055374"
      ]
     },
     "execution_count": 93,
     "metadata": {},
     "output_type": "execute_result"
    }
   ],
   "source": [
    "volcano_df.fold_change.max()"
   ]
  },
  {
   "cell_type": "code",
   "execution_count": 94,
   "metadata": {},
   "outputs": [
    {
     "data": {
      "image/png": "[encoded data removed]",
      "text/plain": [
       "<Figure size 576x576 with 1 Axes>"
      ]
     },
     "metadata": {
      "needs_background": "light"
     },
     "output_type": "display_data"
    }
   ],
   "source": [
    "fig, ax = plt.subplots(figsize=(8,8))\n",
    "ax = sns.scatterplot(x=\"fold_change\", y=\"pval\", data= volcano_df.astype('float'), s=volcano_df['pval']*5,alpha=.5)\n",
    "ax.set(title='Differential Expression: AML vs. baseline ALL', ylabel='-log10 p-value')\n",
    "for i,row in volcano_df.iterrows():\n",
    "    if row['pval'] > -np.log10(.0000000001):\n",
    "        ax.text(row['fold_change'],row['pval'],str(i))\n",
    "#ax.set(title=\"DE genes: {} vs. baseline {}\".format(treatment_group,baseline_group), xlabel=\"log2 fold-change\", ylabel=\"-log p-value\")\n",
    "plt.savefig('C:/Users/natea/figures/logdata_volcano.png')"
   ]
  },
  {
   "cell_type": "code",
   "execution_count": 95,
   "metadata": {},
   "outputs": [],
   "source": [
    "#Volcano.make_volcano(log_data, probe_list,'cancer','AML','ALL',label_alpha=.0001)"
   ]
  },
  {
   "cell_type": "code",
   "execution_count": 96,
   "metadata": {},
   "outputs": [],
   "source": [
    "from sklearn import neighbors\n",
    "from sklearn.model_selection import train_test_split\n",
    "from sklearn.metrics import accuracy_score"
   ]
  },
  {
   "cell_type": "code",
   "execution_count": 102,
   "metadata": {},
   "outputs": [],
   "source": [
    "X = log_data.drop(columns='cancer').values"
   ]
  },
  {
   "cell_type": "code",
   "execution_count": 103,
   "metadata": {},
   "outputs": [],
   "source": [
    "y = log_data.cancer.values"
   ]
  },
  {
   "cell_type": "code",
   "execution_count": 104,
   "metadata": {},
   "outputs": [],
   "source": [
    "X_train,X_test,y_train,y_test = train_test_split(X,y,random_state=12)"
   ]
  },
  {
   "cell_type": "code",
   "execution_count": 109,
   "metadata": {},
   "outputs": [],
   "source": [
    "acc_scores = []\n",
    "for k in range(1, 21):\n",
    "    knn = neighbors.KNeighborsClassifier(n_neighbors=k)\n",
    "    knn.fit(X_train, y_train)\n",
    "    y_pred = knn.predict(X_test)\n",
    "    acc_scores.append(accuracy_score(y_test, y_pred))"
   ]
  },
  {
   "cell_type": "code",
   "execution_count": 120,
   "metadata": {},
   "outputs": [
    {
     "data": {
      "image/png": "[encoded data removed]",
      "text/plain": [
       "<Figure size 720x504 with 1 Axes>"
      ]
     },
     "metadata": {
      "needs_background": "light"
     },
     "output_type": "display_data"
    }
   ],
   "source": [
    "plt.figure(figsize=(10, 7))\n",
    "plt.plot(range(1,21),acc_scores)\n",
    "plt.title('Accuracy vs. K Value')\n",
    "plt.xlabel('K')\n",
    "plt.ylabel('Accuracy');"
   ]
  },
  {
   "cell_type": "code",
   "execution_count": 112,
   "metadata": {},
   "outputs": [],
   "source": [
    "# with k=4, we get maximum accuracy rate."
   ]
  },
  {
   "cell_type": "code",
   "execution_count": 113,
   "metadata": {},
   "outputs": [],
   "source": [
    "from sklearn.ensemble import RandomForestClassifier\n",
    "from sklearn.metrics import plot_roc_curve"
   ]
  },
  {
   "cell_type": "code",
   "execution_count": 114,
   "metadata": {},
   "outputs": [],
   "source": [
    "rfc = RandomForestClassifier(random_state=12)"
   ]
  },
  {
   "cell_type": "code",
   "execution_count": 115,
   "metadata": {},
   "outputs": [
    {
     "data": {
      "text/plain": [
       "RandomForestClassifier(bootstrap=True, ccp_alpha=0.0, class_weight=None,\n",
       "                       criterion='gini', max_depth=None, max_features='auto',\n",
       "                       max_leaf_nodes=None, max_samples=None,\n",
       "                       min_impurity_decrease=0.0, min_impurity_split=None,\n",
       "                       min_samples_leaf=1, min_samples_split=2,\n",
       "                       min_weight_fraction_leaf=0.0, n_estimators=100,\n",
       "                       n_jobs=None, oob_score=False, random_state=12, verbose=0,\n",
       "                       warm_start=False)"
      ]
     },
     "execution_count": 115,
     "metadata": {},
     "output_type": "execute_result"
    }
   ],
   "source": [
    "rfc.fit(X_train, y_train)"
   ]
  },
  {
   "cell_type": "code",
   "execution_count": 116,
   "metadata": {},
   "outputs": [],
   "source": [
    "rfc_pred = rfc.predict(X_test)"
   ]
  },
  {
   "cell_type": "code",
   "execution_count": 117,
   "metadata": {},
   "outputs": [
    {
     "name": "stdout",
     "output_type": "stream",
     "text": [
      "RandomForest accuracy is 0.94\n"
     ]
    }
   ],
   "source": [
    "print('RandomForest accuracy is {:0.2f}'.format(accuracy_score(y_test, rfc_pred)))"
   ]
  },
  {
   "cell_type": "code",
   "execution_count": 118,
   "metadata": {},
   "outputs": [
    {
     "data": {
      "image/png": "[encoded data removed]",
      "text/plain": [
       "<Figure size 576x432 with 1 Axes>"
      ]
     },
     "metadata": {
      "needs_background": "light"
     },
     "output_type": "display_data"
    }
   ],
   "source": [
    "fig, ax = plt.subplots(figsize=(8,6))\n",
    "plot_roc_curve(rfc, X_test, y_test, ax=ax)\n",
    "plot_roc_curve(knn, X_test, y_test, ax=ax)\n",
    "ax.set(title='ROC curve of Random Forest vs. KN Classifiers');"
   ]
  }
 ],
 "metadata": {
  "kernelspec": {
   "display_name": "Python 3",
   "language": "python",
   "name": "python3"
  },
  "language_info": {
   "codemirror_mode": {
    "name": "ipython",
    "version": 3
   },
   "file_extension": ".py",
   "mimetype": "text/x-python",
   "name": "python",
   "nbconvert_exporter": "python",
   "pygments_lexer": "ipython3",
   "version": "3.6.5"
  }
 },
 "nbformat": 4,
 "nbformat_minor": 4
}
